{
 "cells": [
  {
   "cell_type": "markdown",
   "metadata": {},
   "source": [
    "1.Save the Saturday, June 17th, 2017 data to a csv file. You can find it here: http://web.mta.info/developers/turnstile.html and read it in using read_csv. View the head of the dataframe."
   ]
  },
  {
   "cell_type": "code",
   "execution_count": 156,
   "metadata": {},
   "outputs": [
    {
     "data": {
      "text/html": [
       "<div>\n",
       "<style>\n",
       "    .dataframe thead tr:only-child th {\n",
       "        text-align: right;\n",
       "    }\n",
       "\n",
       "    .dataframe thead th {\n",
       "        text-align: left;\n",
       "    }\n",
       "\n",
       "    .dataframe tbody tr th {\n",
       "        vertical-align: top;\n",
       "    }\n",
       "</style>\n",
       "<table border=\"1\" class=\"dataframe\">\n",
       "  <thead>\n",
       "    <tr style=\"text-align: right;\">\n",
       "      <th></th>\n",
       "      <th>C/A</th>\n",
       "      <th>UNIT</th>\n",
       "      <th>SCP</th>\n",
       "      <th>STATION</th>\n",
       "      <th>LINENAME</th>\n",
       "      <th>DIVISION</th>\n",
       "      <th>DATE</th>\n",
       "      <th>TIME</th>\n",
       "      <th>DESC</th>\n",
       "      <th>ENTRIES</th>\n",
       "      <th>EXITS</th>\n",
       "    </tr>\n",
       "  </thead>\n",
       "  <tbody>\n",
       "    <tr>\n",
       "      <th>0</th>\n",
       "      <td>A002</td>\n",
       "      <td>R051</td>\n",
       "      <td>02-00-00</td>\n",
       "      <td>59 ST</td>\n",
       "      <td>NQR456W</td>\n",
       "      <td>BMT</td>\n",
       "      <td>06/10/2017</td>\n",
       "      <td>00:00:00</td>\n",
       "      <td>REGULAR</td>\n",
       "      <td>6215258</td>\n",
       "      <td>2104297</td>\n",
       "    </tr>\n",
       "    <tr>\n",
       "      <th>1</th>\n",
       "      <td>A002</td>\n",
       "      <td>R051</td>\n",
       "      <td>02-00-00</td>\n",
       "      <td>59 ST</td>\n",
       "      <td>NQR456W</td>\n",
       "      <td>BMT</td>\n",
       "      <td>06/10/2017</td>\n",
       "      <td>04:00:00</td>\n",
       "      <td>REGULAR</td>\n",
       "      <td>6215284</td>\n",
       "      <td>2104303</td>\n",
       "    </tr>\n",
       "    <tr>\n",
       "      <th>2</th>\n",
       "      <td>A002</td>\n",
       "      <td>R051</td>\n",
       "      <td>02-00-00</td>\n",
       "      <td>59 ST</td>\n",
       "      <td>NQR456W</td>\n",
       "      <td>BMT</td>\n",
       "      <td>06/10/2017</td>\n",
       "      <td>08:00:00</td>\n",
       "      <td>REGULAR</td>\n",
       "      <td>6215318</td>\n",
       "      <td>2104337</td>\n",
       "    </tr>\n",
       "    <tr>\n",
       "      <th>3</th>\n",
       "      <td>A002</td>\n",
       "      <td>R051</td>\n",
       "      <td>02-00-00</td>\n",
       "      <td>59 ST</td>\n",
       "      <td>NQR456W</td>\n",
       "      <td>BMT</td>\n",
       "      <td>06/10/2017</td>\n",
       "      <td>12:00:00</td>\n",
       "      <td>REGULAR</td>\n",
       "      <td>6215475</td>\n",
       "      <td>2104417</td>\n",
       "    </tr>\n",
       "    <tr>\n",
       "      <th>4</th>\n",
       "      <td>A002</td>\n",
       "      <td>R051</td>\n",
       "      <td>02-00-00</td>\n",
       "      <td>59 ST</td>\n",
       "      <td>NQR456W</td>\n",
       "      <td>BMT</td>\n",
       "      <td>06/10/2017</td>\n",
       "      <td>16:00:00</td>\n",
       "      <td>REGULAR</td>\n",
       "      <td>6215841</td>\n",
       "      <td>2104465</td>\n",
       "    </tr>\n",
       "  </tbody>\n",
       "</table>\n",
       "</div>"
      ],
      "text/plain": [
       "    C/A  UNIT       SCP STATION LINENAME DIVISION        DATE      TIME  \\\n",
       "0  A002  R051  02-00-00   59 ST  NQR456W      BMT  06/10/2017  00:00:00   \n",
       "1  A002  R051  02-00-00   59 ST  NQR456W      BMT  06/10/2017  04:00:00   \n",
       "2  A002  R051  02-00-00   59 ST  NQR456W      BMT  06/10/2017  08:00:00   \n",
       "3  A002  R051  02-00-00   59 ST  NQR456W      BMT  06/10/2017  12:00:00   \n",
       "4  A002  R051  02-00-00   59 ST  NQR456W      BMT  06/10/2017  16:00:00   \n",
       "\n",
       "      DESC  ENTRIES  \\\n",
       "0  REGULAR  6215258   \n",
       "1  REGULAR  6215284   \n",
       "2  REGULAR  6215318   \n",
       "3  REGULAR  6215475   \n",
       "4  REGULAR  6215841   \n",
       "\n",
       "   EXITS                                                                 \n",
       "0                                            2104297                     \n",
       "1                                            2104303                     \n",
       "2                                            2104337                     \n",
       "3                                            2104417                     \n",
       "4                                            2104465                     "
      ]
     },
     "execution_count": 156,
     "metadata": {},
     "output_type": "execute_result"
    }
   ],
   "source": [
    "#insert 1\n",
    "import pandas as pd\n",
    "\n",
    "df = pd.read_csv('turnstile_170617.csv')\n",
    "df.head()"
   ]
  },
  {
   "cell_type": "markdown",
   "metadata": {},
   "source": [
    "2.View the dataframe columns. Is there extra whitespace at the end of any of the column names? Strip all of the whitespace."
   ]
  },
  {
   "cell_type": "code",
   "execution_count": 157,
   "metadata": {},
   "outputs": [
    {
     "data": {
      "text/plain": [
       "Index(['C/A', 'UNIT', 'SCP', 'STATION', 'LINENAME', 'DIVISION', 'DATE', 'TIME',\n",
       "       'DESC', 'ENTRIES',\n",
       "       'EXITS                                                               '],\n",
       "      dtype='object')"
      ]
     },
     "execution_count": 157,
     "metadata": {},
     "output_type": "execute_result"
    }
   ],
   "source": [
    "#insert 2\n",
    "df.columns"
   ]
  },
  {
   "cell_type": "code",
   "execution_count": 158,
   "metadata": {},
   "outputs": [
    {
     "data": {
      "text/plain": [
       "Index(['C/A', 'UNIT', 'SCP', 'STATION', 'LINENAME', 'DIVISION', 'DATE', 'TIME',\n",
       "       'DESC', 'ENTRIES', 'EXITS'],\n",
       "      dtype='object')"
      ]
     },
     "execution_count": 158,
     "metadata": {},
     "output_type": "execute_result"
    }
   ],
   "source": [
    "df.columns = df.columns.str.strip()\n",
    "df.columns"
   ]
  },
  {
   "cell_type": "markdown",
   "metadata": {},
   "source": [
    "3.In one line, determine how many rows are in your dataframe and if there are are any null entries."
   ]
  },
  {
   "cell_type": "code",
   "execution_count": 8,
   "metadata": {},
   "outputs": [
    {
     "name": "stdout",
     "output_type": "stream",
     "text": [
      "<class 'pandas.core.frame.DataFrame'>\n",
      "RangeIndex: 197209 entries, 0 to 197208\n",
      "Data columns (total 11 columns):\n",
      "C/A         197209 non-null object\n",
      "UNIT        197209 non-null object\n",
      "SCP         197209 non-null object\n",
      "STATION     197209 non-null object\n",
      "LINENAME    197209 non-null object\n",
      "DIVISION    197209 non-null object\n",
      "DATE        197209 non-null object\n",
      "TIME        197209 non-null object\n",
      "DESC        197209 non-null object\n",
      "ENTRIES     197209 non-null int64\n",
      "EXITS       197209 non-null int64\n",
      "dtypes: int64(2), object(9)\n",
      "memory usage: 16.6+ MB\n"
     ]
    }
   ],
   "source": [
    "#insert 3\n",
    "df.info()"
   ]
  },
  {
   "cell_type": "markdown",
   "metadata": {},
   "source": [
    "4.In one line, print out the unique STATION names. How many are there? (Hint: use set)."
   ]
  },
  {
   "cell_type": "code",
   "execution_count": 12,
   "metadata": {},
   "outputs": [
    {
     "name": "stdout",
     "output_type": "stream",
     "text": [
      "{'111 ST', 'RALPH AV', '103 ST', 'ST LAWRENCE AV', 'NECK RD', 'CANARSIE-ROCKAW', '4 AV-9 ST', 'SOUTH FERRY', '215 ST', 'BEVERLY RD', '72 ST', '3 AV-149 ST', '30 AV', '5 AV/53 ST', '15 ST-PROSPECT', 'CORTELYOU RD', 'ORCHARD BEACH', 'AVENUE U', 'NEWARK C', 'NEW UTRECHT AV', '82 ST-JACKSON H', 'MT EDEN AV', 'CENTRAL AV', 'KINGSBRIDGE RD', 'JUNCTION BLVD', '8 ST-NYU', 'NEW LOTS', 'JAY ST-METROTEC', 'EAST 105 ST', '90 ST-ELMHURST', 'NEPTUNE AV', 'BEACH 25 ST', 'PENNSYLVANIA AV', '21 ST-QNSBRIDGE', '61 ST WOODSIDE', 'FAR ROCKAWAY', 'BROADWAY JCT', 'BAYCHESTER AV', 'JOURNAL SQUARE', 'DITMAS AV', 'KNICKERBOCKER', '42 ST-BRYANT PK', 'GATES AV', 'WHITLOCK AV', 'BROAD CHANNEL', 'ROCKAWAY BLVD', 'AVENUE P', '75 ST-ELDERTS', 'FRANKLIN ST', '80 ST', 'NEVINS ST', 'NEWARK HM HE', '33 ST', '46 ST', 'NOSTRAND AV', '125 ST', 'GROVE STREET', 'VERNON-JACKSON', 'LORIMER ST', 'DYCKMAN ST', 'ATL AV-BARCLAY', 'ROOSEVELT ISLND', 'CHRISTOPHER ST', \"E 143/ST MARY'S\", '45 ST', 'DEKALB AV', '14 ST', 'BEACH 98 ST', \"B'WAY-LAFAYETTE\", 'KINGSTON-THROOP', '96 ST', 'RIT-ROOSEVELT', 'NEW LOTS AV', 'COURT SQ', '103 ST-CORONA', 'ST. GEORGE', 'HOUSTON ST', '231 ST', 'STERLING ST', 'FRANKLIN AV', 'GRAND ARMY PLAZ', 'METS-WILLETS PT', 'AQUEDUCT RACETR', '21 ST', 'BOWLING GREEN', 'NEWKIRK AV', '3 AV 138 ST', 'LONGWOOD AV', 'BAY PKWY', 'FREEMAN ST', 'ALABAMA AV', '36 ST', '71 ST', '1 AV', 'ZEREGA AV', 'HARRISON', '14 ST-UNION SQ', 'FOREST AVE', 'ELDER AV', 'PRESIDENT ST', 'BUHRE AV', 'ELMHURST AV', '68ST-HUNTER CO', '176 ST', '137 ST CITY COL', 'MONTROSE AV', 'MORISN AV/SNDVW', 'WORLD TRADE CTR', 'SARATOGA AV', '86 ST', 'HOWARD BCH JFK', 'SPRING ST', 'NEWARK HW BMEBE', 'BEACH 105 ST', 'METROPOLITAN AV', '25 ST', '135 ST', 'STEINWAY ST', 'MYRTLE-WYCKOFF', '116 ST', 'AVENUE J', '34 ST-HUDSON YD', 'WOODHAVEN BLVD', '20 AV', 'BRIARWOOD', 'KOSCIUSZKO ST', 'BEACH 36 ST', 'INWOOD-207 ST', 'JACKSON AV', 'BOROUGH HALL', 'PARK PLACE', 'GREENPOINT AV', '175 ST', 'AVENUE M', 'CARROLL ST', 'CLARK ST', '5 AV/59 ST', 'CLINTON-WASH AV', '46 ST BLISS ST', 'ASTOR PL', 'LIBERTY AV', '121 ST', 'FLUSHING-MAIN', '9TH STREET', '85 ST-FOREST PK', '66 ST-LINCOLN', 'UNION ST', 'HUNTERS PT AV', 'HOYT ST', 'LACKAWANNA', 'CATHEDRAL PKWY', '40 ST LOWERY ST', 'BROAD ST', 'THIRTY ST', 'MIDDLETOWN RD', '69 ST', 'NORWOOD AV', 'SUTPHIN-ARCHER', 'VAN SICLEN AVE', 'PELHAM PKWY', 'NASSAU AV', 'SUTTER AV', '88 ST', 'EASTN PKWY-MUSM', 'HUNTS POINT AV', 'TWENTY THIRD ST', '183 ST', 'JEFFERSON ST', 'BURKE AV', '181 ST', '39 AV', '23 ST', 'AVENUE I', 'JAMAICA 179 ST', '57 ST-7 AV', 'KINGSTON AV', 'TIMES SQ-42 ST', 'BROOK AV', 'PROSPECT AV', '225 ST', '51 ST', 'GRAHAM AV', 'BLEECKER ST', 'NEREID AV', '8 AV', '233 ST', 'GRAND ST', '6 AV', 'ROCKAWAY PARK B', 'BEACH 44 ST', 'BAY RIDGE-95 ST', '7 AV', '116 ST-COLUMBIA', 'UTICA AV', 'CHURCH AV', '138/GRAND CONC', 'PARKSIDE AV', 'AQUEDUCT N.COND', 'JAMAICA CENTER', 'NORWOOD 205 ST', '157 ST', 'ROCKAWAY AV', 'OZONE PK LEFFRT', 'CORTLANDT ST', '104 ST', 'CROWN HTS-UTICA', 'BOTANIC GARDEN', '161/YANKEE STAD', '86 ST-2 AVE', 'BUSHWICK AV', 'WALL ST', 'MOSHOLU PKWY', 'BRIGHTON BEACH', 'AVENUE H', 'MYRTLE-WILLOUGH', 'WOODLAWN', '174-175 STS', 'FLATBUSH AV-B.C', '5 AVE', '55 ST', '72 ST-2 AVE', 'NEWARK BM BW', 'AVENUE N', 'BERGEN ST', '155 ST', 'HIGH ST', 'GRAND-NEWTOWN', 'PATH NEW WTC', '74 ST-BROADWAY', '190 ST', 'CENTRAL PK N110', 'EUCLID AV', 'BEACH 90 ST', '170 ST', 'BEACH 60 ST', '4AV-9 ST', 'CONEY IS-STILLW', 'SHEEPSHEAD BAY', 'QUEENSBORO PLZ', 'WAKEFIELD/241', '59 ST', '75 AV', '34 ST-PENN STA', 'JFK JAMAICA CT1', '169 ST', 'FORDHAM RD', 'PARKCHESTER', '34 ST-HERALD SQ', 'ASTORIA DITMARS', 'RIT-MANHATTAN', '174 ST', 'GUN HILL RD', '145 ST', '59 ST COLUMBUS', 'BEDFORD-NOSTRAN', 'BOWERY', 'PARSONS BLVD', 'OCEAN PKWY', 'E 149 ST', '77 ST', 'BRONX PARK EAST', 'NORTHERN BLVD', 'PRINCE ST', '50 ST', 'CRESCENT ST', 'JKSN HT-ROOSVLT', 'BROADWAY', '49 ST', 'GRANT AV', 'COURT SQ-23 ST', 'NEWKIRK PLAZA', '81 ST-MUSEUM', '18 ST', 'SMITH-9 ST', 'BEDFORD PK BLVD', 'BURNSIDE AV', 'FT HAMILTON PKY', '52 ST', '25 AV', 'HEWES ST', 'HOYT-SCHER', '42 ST-PORT AUTH', 'PATH WTC 2', 'SENECA AVE', 'E 180 ST', '65 ST', '79 ST', 'BEDFORD AV', '47-50 STS ROCK', 'QUEENS PLAZA', 'HARLEM 148 ST', 'CITY / BUS', 'FLUSHING AV', 'KEW GARDENS', '182-183 STS', '63 DR-REGO PARK', '163 ST-AMSTERDM', '219 ST', 'CHAUNCEY ST', 'EASTCHSTER/DYRE', 'WINTHROP ST', '191 ST', 'MARBLE HILL-225', 'KINGS HWY', '110 ST', 'CITY HALL', 'SUTTER AV-RUTLD', 'BEVERLEY ROAD', 'CLASSON AV', '28 ST', '18 AV', 'THIRTY THIRD ST', 'SHEPHERD AV', 'MORGAN AV', 'FOREST HILLS 71', 'VAN SICLEN AV', 'HALSEY ST', 'PROSPECT PARK', '33 ST-RAWSON ST', 'CLEVELAND ST', 'LIVONIA AV', 'BEACH 67 ST', 'TOMPKINSVILLE', 'EAST BROADWAY', 'BROOKLYN BRIDGE', 'INTERVALE AV', 'ATLANTIC AV', 'FULTON ST', 'CYPRESS HILLS', 'WILSON AV', 'CANAL ST', '167 ST', 'LEXINGTON AV/63', 'LAFAYETTE AV', 'MYRTLE AV', 'DELANCEY/ESSEX', '36 AV', 'MARCY AV', 'WHITEHALL S-FRY', 'ALLERTON AV', 'W 8 ST-AQUARIUM', 'GRD CNTRL-42 ST', 'JUNIUS ST', 'YORK ST', 'RECTOR ST', '14TH STREET', '149/GRAND CONC', 'SIMPSON ST', 'PELHAM BAY PARK', '238 ST', '67 AV', '168 ST', '9 AV', 'V.CORTLANDT PK', 'W 4 ST-WASH SQ', 'JAMAICA VAN WK', 'WEST FARMS SQ', 'MORRIS PARK', 'PAVONIA/NEWPORT', 'BAY 50 ST', 'CASTLE HILL AV', 'TREMONT AV', '57 ST', 'AVENUE X', 'CYPRESS AV', 'FRESH POND RD', 'WESTCHESTER SQ', '96 ST-2 AVE', '3 AV', 'SUTPHIN BLVD', '207 ST', 'LEXINGTON AV/53', 'ASTORIA BLVD', 'EXCHANGE PLACE', 'CHAMBERS ST', '2 AV'} 376\n"
     ]
    }
   ],
   "source": [
    "#insert 4\n",
    "print(set(df['STATION']),len(set(df['STATION'])))"
   ]
  },
  {
   "cell_type": "markdown",
   "metadata": {},
   "source": [
    "5.Okay, so we understand what station represents. But what the heck are C/A, UNIT, and SCP? Keep in mind that in the larger stations, you might have multiple areas within one station that look like this:\n",
    "\n",
    "<img src=\"image.jpg\" style=\"width: 300px;\"/>\n",
    "\n",
    "Further complicating things, there are a few station names like 14TH ST that refer to more than one station location along that street.\n",
    "\n",
    "This data set is not very well documented. Welcome to the joys of real world data science!!!\n",
    "\n",
    "Read the following two links carefully to see other people's confusion and what information they have been able to gather:\n",
    "\n",
    "https://groups.google.com/forum/#!topic/mtadeveloperresources/AMVx2WUY9iI\n",
    "\n",
    "https://groups.google.com/forum/#!searchin/mtadeveloperresources/%22remote$20unit%22%7Csort:relevance/mtadeveloperresources/z8l3ZU9cY6Y/OFlHGkFAimQJ\n",
    "\n",
    "What did Patrick O'Hara and Katie Toth have to say?"
   ]
  },
  {
   "cell_type": "code",
   "execution_count": 5,
   "metadata": {
    "collapsed": true
   },
   "outputs": [],
   "source": [
    "#insert 5\n",
    "#C/A: control area is kind of like a 'station' for a specific line\n",
    "#UNIT: a remote unit is kind of like a 'booth' so the same station can have a couple booths\n",
    "#SCP: the subunit channel position could represent a turnstile, but could also represent a collection of turnstiles"
   ]
  },
  {
   "cell_type": "markdown",
   "metadata": {},
   "source": [
    "6.To simplify our calculations right now, let's only look at ridership on Monday, June 12th, 2017. In one line, create a dataset called monday that just includes the dates listed as 06/12/2017.\n",
    "\n",
    "Then, use the command \"monday = monday.reset_index(drop=True)\" to reset the index."
   ]
  },
  {
   "cell_type": "code",
   "execution_count": 93,
   "metadata": {},
   "outputs": [
    {
     "data": {
      "text/html": [
       "<div>\n",
       "<style>\n",
       "    .dataframe thead tr:only-child th {\n",
       "        text-align: right;\n",
       "    }\n",
       "\n",
       "    .dataframe thead th {\n",
       "        text-align: left;\n",
       "    }\n",
       "\n",
       "    .dataframe tbody tr th {\n",
       "        vertical-align: top;\n",
       "    }\n",
       "</style>\n",
       "<table border=\"1\" class=\"dataframe\">\n",
       "  <thead>\n",
       "    <tr style=\"text-align: right;\">\n",
       "      <th></th>\n",
       "      <th>C/A</th>\n",
       "      <th>UNIT</th>\n",
       "      <th>SCP</th>\n",
       "      <th>STATION</th>\n",
       "      <th>LINENAME</th>\n",
       "      <th>DIVISION</th>\n",
       "      <th>DATE</th>\n",
       "      <th>TIME</th>\n",
       "      <th>DESC</th>\n",
       "      <th>ENTRIES</th>\n",
       "      <th>EXITS</th>\n",
       "    </tr>\n",
       "  </thead>\n",
       "  <tbody>\n",
       "    <tr>\n",
       "      <th>0</th>\n",
       "      <td>A002</td>\n",
       "      <td>R051</td>\n",
       "      <td>02-00-00</td>\n",
       "      <td>59 ST</td>\n",
       "      <td>NQR456W</td>\n",
       "      <td>BMT</td>\n",
       "      <td>06/12/2017</td>\n",
       "      <td>00:00:00</td>\n",
       "      <td>REGULAR</td>\n",
       "      <td>6217322</td>\n",
       "      <td>2104727</td>\n",
       "    </tr>\n",
       "    <tr>\n",
       "      <th>1</th>\n",
       "      <td>A002</td>\n",
       "      <td>R051</td>\n",
       "      <td>02-00-00</td>\n",
       "      <td>59 ST</td>\n",
       "      <td>NQR456W</td>\n",
       "      <td>BMT</td>\n",
       "      <td>06/12/2017</td>\n",
       "      <td>04:00:00</td>\n",
       "      <td>REGULAR</td>\n",
       "      <td>6217332</td>\n",
       "      <td>2104729</td>\n",
       "    </tr>\n",
       "    <tr>\n",
       "      <th>2</th>\n",
       "      <td>A002</td>\n",
       "      <td>R051</td>\n",
       "      <td>02-00-00</td>\n",
       "      <td>59 ST</td>\n",
       "      <td>NQR456W</td>\n",
       "      <td>BMT</td>\n",
       "      <td>06/12/2017</td>\n",
       "      <td>08:00:00</td>\n",
       "      <td>REGULAR</td>\n",
       "      <td>6217372</td>\n",
       "      <td>2104813</td>\n",
       "    </tr>\n",
       "    <tr>\n",
       "      <th>3</th>\n",
       "      <td>A002</td>\n",
       "      <td>R051</td>\n",
       "      <td>02-00-00</td>\n",
       "      <td>59 ST</td>\n",
       "      <td>NQR456W</td>\n",
       "      <td>BMT</td>\n",
       "      <td>06/12/2017</td>\n",
       "      <td>12:00:00</td>\n",
       "      <td>REGULAR</td>\n",
       "      <td>6217540</td>\n",
       "      <td>2105024</td>\n",
       "    </tr>\n",
       "    <tr>\n",
       "      <th>4</th>\n",
       "      <td>A002</td>\n",
       "      <td>R051</td>\n",
       "      <td>02-00-00</td>\n",
       "      <td>59 ST</td>\n",
       "      <td>NQR456W</td>\n",
       "      <td>BMT</td>\n",
       "      <td>06/12/2017</td>\n",
       "      <td>16:00:00</td>\n",
       "      <td>REGULAR</td>\n",
       "      <td>6217825</td>\n",
       "      <td>2105081</td>\n",
       "    </tr>\n",
       "  </tbody>\n",
       "</table>\n",
       "</div>"
      ],
      "text/plain": [
       "    C/A  UNIT       SCP STATION LINENAME DIVISION        DATE      TIME  \\\n",
       "0  A002  R051  02-00-00   59 ST  NQR456W      BMT  06/12/2017  00:00:00   \n",
       "1  A002  R051  02-00-00   59 ST  NQR456W      BMT  06/12/2017  04:00:00   \n",
       "2  A002  R051  02-00-00   59 ST  NQR456W      BMT  06/12/2017  08:00:00   \n",
       "3  A002  R051  02-00-00   59 ST  NQR456W      BMT  06/12/2017  12:00:00   \n",
       "4  A002  R051  02-00-00   59 ST  NQR456W      BMT  06/12/2017  16:00:00   \n",
       "\n",
       "      DESC  ENTRIES    EXITS  \n",
       "0  REGULAR  6217322  2104727  \n",
       "1  REGULAR  6217332  2104729  \n",
       "2  REGULAR  6217372  2104813  \n",
       "3  REGULAR  6217540  2105024  \n",
       "4  REGULAR  6217825  2105081  "
      ]
     },
     "execution_count": 93,
     "metadata": {},
     "output_type": "execute_result"
    }
   ],
   "source": [
    "#insert 6\n",
    "monday = df[df.DATE == '06/12/2017']\n",
    "monday = monday.reset_index(drop=True)\n",
    "monday.head()"
   ]
  },
  {
   "cell_type": "markdown",
   "metadata": {},
   "source": [
    "7.Create a dictionary called monday_dict mapping the tuple (C/A, UNIT,SCP, STATION) to a list of tuples containing (TIME,EXITS).\n",
    "\n",
    "For example, the key ('A002', 'R051', '02-00-00','59 ST') in your dictionary should give the value:\n",
    "\n",
    "[('00:00:00', 2104727),\n",
    " ('04:00:00', 2104729),\n",
    " ('08:00:00', 2104813),\n",
    " ('12:00:00', 2105024),\n",
    " ('16:00:00', 2105081),\n",
    " ('20:00:00', 2105134)]"
   ]
  },
  {
   "cell_type": "code",
   "execution_count": 26,
   "metadata": {},
   "outputs": [
    {
     "name": "stdout",
     "output_type": "stream",
     "text": [
      "[('00:00:00', 2104727), ('04:00:00', 2104729), ('08:00:00', 2104813), ('12:00:00', 2105024), ('16:00:00', 2105081), ('20:00:00', 2105134)]\n"
     ]
    }
   ],
   "source": [
    "#insert 7\n",
    "monday_dict = {}\n",
    "for i in range(len(monday.index)):\n",
    "    mytuple = (monday['C/A'][i], monday.UNIT[i],monday.SCP[i],monday.STATION[i])\n",
    "    if mytuple not in monday_dict.keys():\n",
    "        monday_dict[mytuple]=[(monday.TIME[i],monday.EXITS[i])]\n",
    "    else:\n",
    "        monday_dict[mytuple].append((monday.TIME[i],monday.EXITS[i]))\n",
    "print(monday_dict[('A002', 'R051', '02-00-00','59 ST')])"
   ]
  },
  {
   "cell_type": "markdown",
   "metadata": {},
   "source": [
    "8.Note: as you get more comfortable with pandas, you will rely more on built-in pandas capabilities and less on creating dictionaries from scratch. For example, run the following lines of code to verify that this dataframe gives you the same info that you got in Exercise 7."
   ]
  },
  {
   "cell_type": "code",
   "execution_count": 25,
   "metadata": {},
   "outputs": [
    {
     "data": {
      "text/html": [
       "<div>\n",
       "<style>\n",
       "    .dataframe thead tr:only-child th {\n",
       "        text-align: right;\n",
       "    }\n",
       "\n",
       "    .dataframe thead th {\n",
       "        text-align: left;\n",
       "    }\n",
       "\n",
       "    .dataframe tbody tr th {\n",
       "        vertical-align: top;\n",
       "    }\n",
       "</style>\n",
       "<table border=\"1\" class=\"dataframe\">\n",
       "  <thead>\n",
       "    <tr style=\"text-align: right;\">\n",
       "      <th></th>\n",
       "      <th>TIME</th>\n",
       "      <th>EXITS</th>\n",
       "    </tr>\n",
       "  </thead>\n",
       "  <tbody>\n",
       "    <tr>\n",
       "      <th>0</th>\n",
       "      <td>00:00:00</td>\n",
       "      <td>2104727</td>\n",
       "    </tr>\n",
       "    <tr>\n",
       "      <th>1</th>\n",
       "      <td>04:00:00</td>\n",
       "      <td>2104729</td>\n",
       "    </tr>\n",
       "    <tr>\n",
       "      <th>2</th>\n",
       "      <td>08:00:00</td>\n",
       "      <td>2104813</td>\n",
       "    </tr>\n",
       "    <tr>\n",
       "      <th>3</th>\n",
       "      <td>12:00:00</td>\n",
       "      <td>2105024</td>\n",
       "    </tr>\n",
       "    <tr>\n",
       "      <th>4</th>\n",
       "      <td>16:00:00</td>\n",
       "      <td>2105081</td>\n",
       "    </tr>\n",
       "    <tr>\n",
       "      <th>5</th>\n",
       "      <td>20:00:00</td>\n",
       "      <td>2105134</td>\n",
       "    </tr>\n",
       "  </tbody>\n",
       "</table>\n",
       "</div>"
      ],
      "text/plain": [
       "       TIME    EXITS\n",
       "0  00:00:00  2104727\n",
       "1  04:00:00  2104729\n",
       "2  08:00:00  2104813\n",
       "3  12:00:00  2105024\n",
       "4  16:00:00  2105081\n",
       "5  20:00:00  2105134"
      ]
     },
     "execution_count": 25,
     "metadata": {},
     "output_type": "execute_result"
    }
   ],
   "source": [
    "x=monday.groupby(['C/A', 'UNIT', 'SCP', 'STATION']).groups #the keys are the station pairs and the values are the row indices\n",
    "flds = ['TIME','EXITS'] #we want to make values out of the remaining columns\n",
    "monday_exits = {key: monday.loc[val,flds] for key, val in x.items()}\n",
    "monday_exits[('A002', 'R051', '02-00-00','59 ST')]"
   ]
  },
  {
   "cell_type": "markdown",
   "metadata": {},
   "source": [
    "9.What the heck do these exit numbers represent? We can assume that they represent some sort of counter on the turnstile. We can subtract the exits at t=20 minus t=0 to figure out how many riders exited this turnstile between midnight and 8 pm.\n",
    "\n",
    "Can we calculate 20 - 0 for all of the stations? No! Unfortunately, the time increments aren't standardized. Many of the times are listed in 4 hour intervals of midnight, 4 am, 8 am, etc but not all. Make a frequency chart of the times for the monday dataframe from Exercise 6.\n",
    "\n"
   ]
  },
  {
   "cell_type": "code",
   "execution_count": 28,
   "metadata": {},
   "outputs": [
    {
     "data": {
      "text/plain": [
       "00:00:00    2409\n",
       "20:00:00    2408\n",
       "12:00:00    2408\n",
       "08:00:00    2407\n",
       "16:00:00    2405\n",
       "04:00:00    2405\n",
       "17:00:00    1741\n",
       "13:00:00    1740\n",
       "05:00:00    1740\n",
       "01:00:00    1740\n",
       "09:00:00    1739\n",
       "21:00:00    1738\n",
       "14:00:00     110\n",
       "02:00:00     110\n",
       "22:00:00     110\n",
       "06:00:00     110\n",
       "10:00:00     110\n",
       "18:00:00     110\n",
       "15:00:00      39\n",
       "11:00:00      39\n",
       "23:00:00      39\n",
       "19:00:00      39\n",
       "07:00:00      39\n",
       "03:00:00      39\n",
       "08:22:00      37\n",
       "16:22:00      37\n",
       "20:22:00      37\n",
       "00:22:00      37\n",
       "04:22:00      37\n",
       "12:22:00      37\n",
       "            ... \n",
       "05:39:24       1\n",
       "15:11:37       1\n",
       "01:20:07       1\n",
       "00:49:43       1\n",
       "10:29:13       1\n",
       "03:01:39       1\n",
       "07:29:52       1\n",
       "08:05:28       1\n",
       "03:02:58       1\n",
       "08:25:20       1\n",
       "01:24:41       1\n",
       "13:53:24       1\n",
       "23:00:44       1\n",
       "21:36:14       1\n",
       "01:04:40       1\n",
       "13:44:30       1\n",
       "00:25:37       1\n",
       "23:06:49       1\n",
       "22:59:51       1\n",
       "15:28:11       1\n",
       "19:15:44       1\n",
       "13:28:24       1\n",
       "03:04:48       1\n",
       "05:23:19       1\n",
       "03:26:59       1\n",
       "01:28:06       1\n",
       "09:05:29       1\n",
       "21:25:37       1\n",
       "13:40:46       1\n",
       "16:39:44       1\n",
       "Name: TIME, Length: 1887, dtype: int64"
      ]
     },
     "execution_count": 28,
     "metadata": {},
     "output_type": "execute_result"
    }
   ],
   "source": [
    "#insert 9\n",
    "monday.TIME.value_counts()"
   ]
  },
  {
   "cell_type": "markdown",
   "metadata": {},
   "source": [
    "10.Use your monday_dict from Exercise 7 to create a dictionary called monday_dict_diff that maps (C/A, UNIT, SCP, STATION) to the differences in exits between two consective times in order to see how many people exited through a turnstile within a given time interval.\n",
    "\n",
    "For example, the key ('A002', 'R051', '02-00-00','59 ST') should map to:\n",
    "\n",
    "[('04:00:00', 2),\n",
    " ('08:00:00', 84),\n",
    " ('12:00:00', 211),\n",
    " ('16:00:00', 57),\n",
    " ('20:00:00', 53)]"
   ]
  },
  {
   "cell_type": "code",
   "execution_count": 38,
   "metadata": {},
   "outputs": [
    {
     "name": "stdout",
     "output_type": "stream",
     "text": [
      "[('04:00:00', 2), ('08:00:00', 84), ('12:00:00', 211), ('16:00:00', 57), ('20:00:00', 53)]\n"
     ]
    }
   ],
   "source": [
    "#insert 10\n",
    "monday_dict_diff = {}\n",
    "for a,b in monday_dict.items():\n",
    "    for i in range(len(b)-1):\n",
    "        diff = b[i+1][1]-b[i][1]\n",
    "        if a not in monday_dict_diff.keys():\n",
    "            monday_dict_diff[a]=[(b[i+1][0],diff)]\n",
    "        else:\n",
    "            monday_dict_diff[a].append((b[i+1][0],diff))\n",
    "print(monday_dict_diff[('A002', 'R051', '02-00-00','59 ST')])"
   ]
  },
  {
   "cell_type": "markdown",
   "metadata": {},
   "source": [
    "11.Once again, note that pandas can do the above calculation for you. If you used the monday_exits dataframe from Exercise 8, run the following code to verify that you obtain what you just got in Exercise 10. It may take a bit longer to run."
   ]
  },
  {
   "cell_type": "code",
   "execution_count": 29,
   "metadata": {},
   "outputs": [
    {
     "data": {
      "text/html": [
       "<div>\n",
       "<style>\n",
       "    .dataframe thead tr:only-child th {\n",
       "        text-align: right;\n",
       "    }\n",
       "\n",
       "    .dataframe thead th {\n",
       "        text-align: left;\n",
       "    }\n",
       "\n",
       "    .dataframe tbody tr th {\n",
       "        vertical-align: top;\n",
       "    }\n",
       "</style>\n",
       "<table border=\"1\" class=\"dataframe\">\n",
       "  <thead>\n",
       "    <tr style=\"text-align: right;\">\n",
       "      <th></th>\n",
       "      <th>TIME</th>\n",
       "      <th>EXITS</th>\n",
       "    </tr>\n",
       "  </thead>\n",
       "  <tbody>\n",
       "    <tr>\n",
       "      <th>1</th>\n",
       "      <td>04:00:00</td>\n",
       "      <td>2</td>\n",
       "    </tr>\n",
       "    <tr>\n",
       "      <th>2</th>\n",
       "      <td>08:00:00</td>\n",
       "      <td>84</td>\n",
       "    </tr>\n",
       "    <tr>\n",
       "      <th>3</th>\n",
       "      <td>12:00:00</td>\n",
       "      <td>211</td>\n",
       "    </tr>\n",
       "    <tr>\n",
       "      <th>4</th>\n",
       "      <td>16:00:00</td>\n",
       "      <td>57</td>\n",
       "    </tr>\n",
       "    <tr>\n",
       "      <th>5</th>\n",
       "      <td>20:00:00</td>\n",
       "      <td>53</td>\n",
       "    </tr>\n",
       "  </tbody>\n",
       "</table>\n",
       "</div>"
      ],
      "text/plain": [
       "       TIME  EXITS\n",
       "1  04:00:00      2\n",
       "2  08:00:00     84\n",
       "3  12:00:00    211\n",
       "4  16:00:00     57\n",
       "5  20:00:00     53"
      ]
     },
     "execution_count": 29,
     "metadata": {},
     "output_type": "execute_result"
    }
   ],
   "source": [
    "monday_diff = {}\n",
    "\n",
    "for turnstile, slice_df in monday_exits.items():\n",
    "    diff = slice_df['EXITS'].diff().values #calculates the exit difference between each entry\n",
    "    monday_diff[turnstile] = pd.Series(diff, index=slice_df['TIME'].values) #maps turnstile to (time, exit difference) pairs\n",
    "    for i,(key, val) in enumerate(monday_diff[turnstile].items()):\n",
    "        try: #need a try because you'll get an error for NAN difference values since there is one less difference than the number of times\n",
    "            monday_exits[turnstile].at[i,'EXITS'] = val\n",
    "        except:\n",
    "            continue\n",
    "    monday_exits[turnstile] = monday_exits[turnstile].drop(0)    #drop the first time because you only calculate differences after the second time.                   \n",
    "    \n",
    "monday_exits[('A002', 'R051', '02-00-00', '59 ST')]"
   ]
  },
  {
   "cell_type": "markdown",
   "metadata": {},
   "source": [
    "12.Find how many people in total passed through a given turnstile between the hours given for 06/12/2017. For example, if a turnstile is on increments of 0,4,8,...,20, then you want to find out how many total people passed through between midnight and 8 pm. Create a dictionary called total_turnstile that maps (C/A,UNIT,SCP,STATION) to total Monday ridership. Use your dictionary from Exercise 10.\n",
    "\n",
    "Hint: the key ('A002', 'R051', '02-00-00', '59 ST') should map to 407 total riders."
   ]
  },
  {
   "cell_type": "code",
   "execution_count": 39,
   "metadata": {},
   "outputs": [
    {
     "name": "stdout",
     "output_type": "stream",
     "text": [
      "407\n"
     ]
    }
   ],
   "source": [
    "#insert 12\n",
    "total_turnstile = {}\n",
    "for a,b in monday_dict_diff.items():\n",
    "    total = 0\n",
    "    for i in range(len(b)):\n",
    "        total += b[i][1]\n",
    "    total_turnstile[a]=total\n",
    "print(total_turnstile[('A002', 'R051', '02-00-00','59 ST')])"
   ]
  },
  {
   "cell_type": "markdown",
   "metadata": {},
   "source": [
    "13.Use your work in Exercise 12 to create a dictionary called total_riders that maps the (C/A, UNIT, STATION) location to all riders that passed through ALL of the turnstiles in that area on Monday.\n",
    "\n",
    "Hint 1: use the get command\n",
    "\n",
    "Hint 2: ('A002', 'R051', '59 ST') should have 6704 total riders."
   ]
  },
  {
   "cell_type": "code",
   "execution_count": 66,
   "metadata": {},
   "outputs": [
    {
     "name": "stdout",
     "output_type": "stream",
     "text": [
      "6704\n"
     ]
    }
   ],
   "source": [
    "#insert 13\n",
    "total_riders = {}\n",
    "for a,b in total_turnstile.items():\n",
    "    x = (a[0],a[1],a[3])\n",
    "    if x not in total_riders.keys():\n",
    "        total_riders[x]=b\n",
    "    else:\n",
    "        total_riders[x]+=b\n",
    "print(total_riders[('A002', 'R051', '59 ST')])"
   ]
  },
  {
   "cell_type": "markdown",
   "metadata": {},
   "source": [
    "14.Create a list of tuples called tuple_list using your total_riders dictionary so that you can sort the list in decending order to see busiest stations. Hint: the busiest area should be the PATH World Trade Center station."
   ]
  },
  {
   "cell_type": "code",
   "execution_count": 83,
   "metadata": {},
   "outputs": [
    {
     "name": "stdout",
     "output_type": "stream",
     "text": [
      "PATH NEW WTC\n"
     ]
    }
   ],
   "source": [
    "#insert 14\n",
    "tuple_list = []\n",
    "for a,b in total_riders.items():\n",
    "    tuple_list.append((a,b))\n",
    "tuple_list = sorted(tuple_list, key=lambda x:(-x[1],x[0]))\n",
    "print(tuple_list[0][0][2])"
   ]
  },
  {
   "cell_type": "markdown",
   "metadata": {},
   "source": [
    "15.Look at the three smallest riderships in your above tuple list. Do they make sense? What about your data caused negative numbers? Welcome to the world of buggy real world data! Remove these three items from your tuple list."
   ]
  },
  {
   "cell_type": "code",
   "execution_count": 84,
   "metadata": {},
   "outputs": [
    {
     "name": "stdout",
     "output_type": "stream",
     "text": [
      "[(('PTH22', 'R540', 'PATH NEW WTC'), 56297), (('R238', 'R046', 'GRD CNTRL-42 ST'), 50291), (('R240', 'R047', 'GRD CNTRL-42 ST'), 39654), (('R249', 'R179', '86 ST'), 31126), (('N500', 'R020', '47-50 STS ROCK'), 27180), (('R138', 'R293', '34 ST-PENN STA'), 26181), (('A025', 'R023', '34 ST-HERALD SQ'), 25527), (('R533', 'R055', 'FLUSHING-MAIN'), 24776), (('R221', 'R170', '14 ST-UNION SQ'), 24129), (('N507', 'R023', '34 ST-HERALD SQ'), 24085), (('N506', 'R022', '34 ST-HERALD SQ'), 24053), (('N049', 'R084', '59 ST COLUMBUS'), 24049), (('H009', 'R235', 'BEDFORD AV'), 23536), (('A034', 'R170', '14 ST-UNION SQ'), 23504), (('N306', 'R017', 'LEXINGTON AV/53'), 23196), (('N083', 'R138', 'W 4 ST-WASH SQ'), 23123), (('N324', 'R018', 'JKSN HT-ROOSVLT'), 22670), (('N063A', 'R011', '42 ST-PORT AUTH'), 22189), (('N501', 'R020', '47-50 STS ROCK'), 22075), (('R258', 'R132', '125 ST'), 21168), (('R169', 'R168', '96 ST'), 20911), (('A033', 'R170', '14 ST-UNION SQ'), 20589), (('R151', 'R033', 'TIMES SQ-42 ST'), 20076), (('PTH06', 'R546', 'PAVONIA/NEWPORT'), 19889), (('PTH17', 'R541', 'THIRTY THIRD ST'), 19870), (('R236', 'R045', 'GRD CNTRL-42 ST'), 19814), (('A021', 'R032', 'TIMES SQ-42 ST'), 19367), (('PTH20', 'R549', 'NEWARK HM HE'), 19271), (('N606', 'R025', 'JAMAICA CENTER'), 19260), (('PTH04', 'R551', 'GROVE STREET'), 19161), (('N504', 'R021', '42 ST-BRYANT PK'), 19090), (('R247', 'R178', '77 ST'), 18894), (('N067', 'R012', '34 ST-PENN STA'), 18671), (('R116', 'R030', 'CHAMBERS ST'), 18496), (('N051', 'R084', '59 ST COLUMBUS'), 18491), (('R610', 'R057', 'ATL AV-BARCLAY'), 18132), (('N505', 'R022', '34 ST-HERALD SQ'), 17924), (('R206', 'R014', 'FULTON ST'), 17543), (('R135', 'R031', '34 ST-PENN STA'), 17058), (('N605', 'R024', 'SUTPHIN-ARCHER'), 16808), (('PTH05', 'R543', 'EXCHANGE PLACE'), 16332), (('A046', 'R463', 'CANAL ST'), 16073), (('R101', 'R001', 'SOUTH FERRY'), 16069), (('R246', 'R177', '68ST-HUNTER CO'), 15975), (('R523', 'R147', '61 ST WOODSIDE'), 15842), (('R161B', 'R452', '72 ST'), 15761), (('R526', 'R096', '82 ST-JACKSON H'), 15604), (('PTH07', 'R550', 'CITY / BUS'), 15369), (('N303', 'R015', '5 AV/53 ST'), 15354), (('R145', 'R032', 'TIMES SQ-42 ST'), 15312), (('N026', 'R102', '125 ST'), 15311), (('R417', 'R222', 'PARKCHESTER'), 15209), (('N336', 'R158', 'KEW GARDENS'), 15189), (('N519', 'R461', \"B'WAY-LAFAYETTE\"), 14887), (('R528', 'R097', 'JUNCTION BLVD'), 14793), (('N700', 'R570', '72 ST-2 AVE'), 14219), (('R143', 'R032', 'TIMES SQ-42 ST'), 14214), (('A043', 'R462', 'CANAL ST'), 13967), (('R202', 'R042', 'BOWLING GREEN'), 13952), (('N520', 'R240', 'GRAND ST'), 13934), (('N073', 'R013', '34 ST-PENN STA'), 13920), (('N503', 'R021', '42 ST-BRYANT PK'), 13916), (('R626', 'R062', 'CROWN HTS-UTICA'), 13586), (('N305', 'R017', 'LEXINGTON AV/53'), 13442), (('N304', 'R015', '5 AV/53 ST'), 13093), (('N062A', 'R010', '42 ST-PORT AUTH'), 13014), (('R182', 'R035', '168 ST'), 12945), (('N020', 'R101', '145 ST'), 12901), (('N508', 'R453', '23 ST'), 12688), (('R245A', 'R051', '59 ST'), 12645), (('R155', 'R116', '50 ST'), 12450), (('H008', 'R248', '1 AV'), 12232), (('H001', 'R175', '8 AV'), 12130), (('PTH13', 'R541', 'THIRTY ST'), 11951), (('N098', 'R028', 'FULTON ST'), 11948), (('R243', 'R049', '51 ST'), 11948), (('R534', 'R055', 'FLUSHING-MAIN'), 11942), (('N600', 'R302', '57 ST'), 11883), (('D002', 'R390', '8 AV'), 11850), (('PTH12', 'R542', 'TWENTY THIRD ST'), 11811), (('PTH16', 'R550', 'LACKAWANNA'), 11630), (('R515', 'R095', 'ASTORIA DITMARS'), 11580), (('R220', 'R160', 'ASTOR PL'), 11362), (('R529', 'R208', '103 ST-CORONA'), 11311), (('N519A', 'R461', \"B'WAY-LAFAYETTE\"), 11258), (('N501A', 'R020', '47-50 STS ROCK'), 11207), (('N329', 'R201', 'WOODHAVEN BLVD'), 11200), (('R501', 'R054', '5 AVE'), 11144), (('R168A', 'R168', '96 ST'), 11136), (('N335', 'R158', 'KEW GARDENS'), 11064), (('R244', 'R050', '59 ST'), 10999), (('R210', 'R044', 'BROOKLYN BRIDGE'), 10997), (('N060', 'R010', '42 ST-PORT AUTH'), 10820), (('C009', 'R057', 'ATL AV-BARCLAY'), 10769), (('R252', 'R180', '103 ST'), 10766), (('B016', 'R098', 'CHURCH AV'), 10704), (('N078', 'R175', '14 ST'), 10670), (('N080', 'R138', 'W 4 ST-WASH SQ'), 10639), (('R161A', 'R452', '72 ST'), 10558), (('R165', 'R167', '86 ST'), 10528), (('A060', 'R001', 'WHITEHALL S-FRY'), 10393), (('R550', 'R072', '34 ST-HUDSON YD'), 10380), (('A022', 'R022', '34 ST-HERALD SQ'), 10367), (('R154', 'R116', '50 ST'), 10328), (('N301', 'R113', '7 AV'), 10297), (('A049', 'R088', 'CORTLANDT ST'), 10265), (('N509', 'R203', '23 ST'), 10222), (('N095A', 'R014', 'FULTON ST'), 10197), (('A035', 'R170', '14 ST-UNION SQ'), 10137), (('R159', 'R164', '66 ST-LINCOLN'), 10005), (('R183', 'R260', '181 ST'), 9861), (('N092', 'R029', 'CHAMBERS ST'), 9839), (('N103', 'R127', 'JAY ST-METROTEC'), 9718), (('R158', 'R084', '59 ST COLUMBUS'), 9686), (('N700A', 'R570', '72 ST-2 AVE'), 9481), (('B027', 'R136', 'SHEEPSHEAD BAY'), 9429), (('R204', 'R043', 'WALL ST'), 9397), (('N102', 'R127', 'JAY ST-METROTEC'), 9365), (('N089', 'R139', 'CANAL ST'), 9362), (('N094', 'R029', 'WORLD TRADE CTR'), 9337), (('R111', 'R027', 'WALL ST'), 9325), (('R532H', 'R328', 'METS-WILLETS PT'), 9281), (('R226', 'R131', '23 ST'), 9268), (('R228', 'R143', '28 ST'), 9080), (('R602', 'R108', 'BOROUGH HALL'), 9080), (('N601', 'R319', 'LEXINGTON AV/63'), 9073), (('R142', 'R293', '34 ST-PENN STA'), 9019), (('N072', 'R012', '34 ST-PENN STA'), 9007), (('N607', 'R025', 'JAMAICA CENTER'), 8926), (('R513', 'R093', '30 AV'), 8863), (('G001', 'R151', 'CONEY IS-STILLW'), 8836), (('R244A', 'R050', '59 ST'), 8802), (('B019', 'R149', 'NEWKIRK PLAZA'), 8799), (('N701A', 'R571', '86 ST-2 AVE'), 8779), (('N305A', 'R016', 'LEXINGTON AV/53'), 8730), (('R216', 'R322', 'SPRING ST'), 8714), (('N062', 'R011', '42 ST-PORT AUTH'), 8697), (('R601A', 'R108', 'BOROUGH HALL'), 8673), (('N300', 'R113', '7 AV'), 8652), (('N095', 'R014', 'FULTON ST'), 8561), (('R201', 'R041', 'BOWLING GREEN'), 8486), (('PTH01', 'R549', 'NEWARK HW BMEBE'), 8485), (('N044', 'R187', '81 ST-MUSEUM'), 8347), (('B004', 'R171', '7 AV'), 8346), (('PTH02', 'R544', 'HARRISON'), 8345), (('R229', 'R143', '28 ST'), 8317), (('N523', 'R300', '2 AV'), 8159), (('R232', 'R176', '33 ST'), 8135), (('A042', 'R086', 'PRINCE ST'), 8080), (('N601A', 'R319', 'LEXINGTON AV/63'), 8050), (('N323', 'R018', 'JKSN HT-ROOSVLT'), 7927), (('N108', 'R217', 'HOYT-SCHER'), 7908), (('N327', 'R254', 'GRAND-NEWTOWN'), 7901), (('R237', 'R046', 'GRD CNTRL-42 ST'), 7882), (('N091', 'R029', 'CHAMBERS ST'), 7826), (('R283', 'R221', '167 ST'), 7811), (('PTH21', 'R540', 'PATH WTC 2'), 7742), (('R518', 'R261', '40 ST LOWERY ST'), 7678), (('JFK03', 'R536', 'JFK JAMAICA CT1'), 7649), (('R185', 'R274', '191 ST'), 7647), (('R412', 'R146', 'HUNTS POINT AV'), 7607), (('R132', 'R190', '23 ST'), 7574), (('R512', 'R092', 'BROADWAY'), 7559), (('R147', 'R033', 'TIMES SQ-42 ST'), 7495), (('R175', 'R169', '137 ST CITY COL'), 7443), (('R516', 'R291', '33 ST-RAWSON ST'), 7437), (('C008', 'R099', 'DEKALB AV'), 7433), (('R331', 'R364', 'GUN HILL RD'), 7422), (('R503', 'R276', 'VERNON-JACKSON'), 7412), (('B024A', 'R211', 'KINGS HWY'), 7277), (('A029', 'R082', '28 ST'), 7231), (('N512', 'R163', '14 ST'), 7223), (('N333B', 'R141', 'FOREST HILLS 71'), 7208), (('N046', 'R281', '72 ST'), 7204), (('R519', 'R223', '46 ST BLISS ST'), 7168), (('PTH11', 'R545', '14TH STREET'), 7153), (('R110', 'R027', 'WALL ST'), 7135), (('N701', 'R571', '86 ST-2 AVE'), 7116), (('R113', 'R028', 'FULTON ST'), 7098), (('A006', 'R079', '5 AV/59 ST'), 7070), (('R148', 'R033', 'TIMES SQ-42 ST'), 7065), (('A013', 'R081', '49 ST'), 7033), (('N124', 'R103', 'BROADWAY JCT'), 7030), (('R242', 'R049', '51 ST'), 7005), (('R237B', 'R047', 'GRD CNTRL-42 ST'), 6934), (('N071', 'R013', '34 ST-PENN STA'), 6932), (('H007', 'R248', '1 AV'), 6841), (('A039', 'R085', '8 ST-NYU'), 6839), (('C018', 'R197', '36 ST'), 6836), (('A002', 'R051', '59 ST'), 6704), (('N120', 'R153', 'UTICA AV'), 6700), (('R514', 'R094', 'ASTORIA BLVD'), 6646), (('C012', 'R258', '4AV-9 ST'), 6613), (('G009', 'R151', 'CONEY IS-STILLW'), 6528), (('N077', 'R111', '23 ST'), 6520), (('N400A', 'R359', 'COURT SQ'), 6506), (('R248', 'R178', '77 ST'), 6473), (('R301', 'R323', 'CENTRAL PK N110'), 6461), (('R173', 'R159', '116 ST-COLUMBIA'), 6432), (('R507', 'R134', 'HUNTERS PT AV'), 6421), (('R527', 'R122', '90 ST-ELMHURST'), 6421), (('J002', 'R460', 'MARCY AV'), 6411), (('D010', 'R394', 'BAY PKWY'), 6377), (('N056', 'R188', '50 ST'), 6337), (('R141', 'R031', '34 ST-PENN STA'), 6333), (('E014', 'R374', 'BAY PKWY'), 6331), (('A010', 'R080', '57 ST-7 AV'), 6297), (('N525', 'R142', 'DELANCEY/ESSEX'), 6296), (('R174', 'R034', '125 ST'), 6279), (('N502', 'R021', '42 ST-BRYANT PK'), 6255), (('N309A', 'R140', 'QUEENS PLAZA'), 6244), (('N076', 'R111', '23 ST'), 6230), (('J009', 'R378', 'MYRTLE AV'), 6191), (('R200A', 'R041', 'BOWLING GREEN'), 6179), (('A031', 'R083', '23 ST'), 6175), (('N070', 'R012', '34 ST-PENN STA'), 6163), (('R612', 'R057', 'ATL AV-BARCLAY'), 6163), (('N090', 'R139', 'CANAL ST'), 6143), (('R261', 'R205', '149/GRAND CONC'), 6116), (('N702', 'R572', '96 ST-2 AVE'), 6108), (('A030', 'R083', '23 ST'), 5975), (('B031', 'R172', 'BRIGHTON BEACH'), 5968), (('N117', 'R198', 'NOSTRAND AV'), 5919), (('R284', 'R243', '170 ST'), 5887), (('B024', 'R211', 'KINGS HWY'), 5885), (('N702A', 'R572', '96 ST-2 AVE'), 5875), (('R530', 'R310', '111 ST'), 5861), (('N141', 'R356', 'OZONE PK LEFFRT'), 5857), (('N539A', 'R288', '7 AV'), 5852), (('A058', 'R001', 'WHITEHALL S-FRY'), 5837), (('R124', 'R290', 'HOUSTON ST'), 5798), (('A037', 'R170', '14 ST-UNION SQ'), 5756), (('N063', 'R011', '42 ST-PORT AUTH'), 5753), (('N315', 'R238', 'STEINWAY ST'), 5651), (('R418', 'R106', 'CASTLE HILL AV'), 5615), (('A061', 'R142', 'DELANCEY/ESSEX'), 5594), (('N603', 'R303', '21 ST-QNSBRIDGE'), 5594), (('R325', 'R388', 'E 180 ST'), 5585), (('R126', 'R189', 'CHRISTOPHER ST'), 5526), (('R127', 'R105', '14 ST'), 5514), (('R231A', 'R176', '33 ST'), 5503), (('R250', 'R179', '86 ST'), 5456), (('A015', 'R081', '49 ST'), 5450), (('R170', 'R191', '103 ST'), 5437), (('C025', 'R215', '86 ST'), 5415), (('PTH09', 'R548', 'CHRISTOPHER ST'), 5414), (('R231', 'R176', '33 ST'), 5398), (('N405', 'R239', 'GREENPOINT AV'), 5371), (('R521', 'R327', '52 ST'), 5352), (('R414', 'R162', 'ELDER AV'), 5342), (('K025', 'R404', 'FRESH POND RD'), 5292), (('A081', 'R028', 'FULTON ST'), 5269), (('A027', 'R082', '28 ST'), 5207), (('R420', 'R107', 'WESTCHESTER SQ'), 5207), (('R622', 'R123', 'FRANKLIN AV'), 5207), (('N602', 'R259', 'ROOSEVELT ISLND'), 5201), (('N213', 'R154', 'TREMONT AV'), 5163), (('R508', 'R346', 'COURT SQ'), 5146), (('H027', 'R137', 'MYRTLE-WYCKOFF'), 5115), (('N019', 'R101', '145 ST'), 5101), (('R112', 'R027', 'WALL ST'), 5076), (('R608', 'R056', 'NEVINS ST'), 5048), (('N010', 'R126', '175 ST'), 5027), (('R253', 'R181', '110 ST'), 4991), (('N217', 'R112', 'FORDHAM RD'), 4985), (('R625', 'R062', 'CROWN HTS-UTICA'), 4963), (('R134', 'R272', '28 ST'), 4953), (('N536', 'R270', 'SMITH-9 ST'), 4948), (('R210A', 'R044', 'BROOKLYN BRIDGE'), 4908), (('N339A', 'R114', 'PARSONS BLVD'), 4900), (('R311', 'R053', '3 AV-149 ST'), 4860), (('R251', 'R144', '96 ST'), 4851), (('R217A', 'R194', 'BLEECKER ST'), 4847), (('H026', 'R137', 'MYRTLE-WYCKOFF'), 4835), (('E001', 'R368', '9 AV'), 4829), (('N604', 'R342', 'JAMAICA VAN WK'), 4801), (('R401', 'R445', '3 AV 138 ST'), 4794), (('R629', 'R065', 'ROCKAWAY AV'), 4783), (('R524', 'R347', '69 ST'), 4777), (('N521', 'R300', '2 AV'), 4765), (('R208', 'R014', 'FULTON ST'), 4759), (('R114', 'R028', 'FULTON ST'), 4758), (('R628', 'R064', 'SARATOGA AV'), 4748), (('R336', 'R145', 'WAKEFIELD/241'), 4696), (('R634', 'R069', 'NEW LOTS AV'), 4695), (('N537', 'R258', '4 AV-9 ST'), 4671), (('N546', 'R204', 'CHURCH AV'), 4659), (('PTH10', 'R547', '9TH STREET'), 4628), (('R290', 'R161', 'KINGSBRIDGE RD'), 4615), (('N330', 'R202', '63 DR-REGO PARK'), 4601), (('N343', 'R019', 'JAMAICA 179 ST'), 4584), (('R160A', 'R164', '66 ST-LINCOLN'), 4569), (('A014', 'R081', '49 ST'), 4564), (('R160', 'R164', '66 ST-LINCOLN'), 4559), (('R112A', 'R027', 'WALL ST'), 4517), (('H014', 'R249', 'GRAHAM AV'), 4514), (('R219', 'R160', 'ASTOR PL'), 4490), (('N526', 'R142', 'DELANCEY/ESSEX'), 4468), (('R256', 'R182', '116 ST'), 4468), (('N196', 'R285', 'FAR ROCKAWAY'), 4423), (('H016', 'R250', 'GRAND ST'), 4410), (('J024', 'R437', 'CRESCENT ST'), 4409), (('R415', 'R120', 'MORISN AV/SNDVW'), 4406), (('R511', 'R091', '36 AV'), 4394), (('R423', 'R429', 'PELHAM BAY PARK'), 4345), (('N069', 'R013', '34 ST-PENN STA'), 4315), (('N530', 'R301', 'YORK ST'), 4306), (('B013', 'R196', 'PROSPECT PARK'), 4286), (('R287', 'R244', 'BURNSIDE AV'), 4279), (('C019', 'R232', '45 ST'), 4263), (('R164', 'R167', '86 ST'), 4263), (('R179', 'R193', '157 ST'), 4250), (('N114', 'R297', 'FRANKLIN AV'), 4240), (('N043', 'R186', '86 ST'), 4232), (('R645', 'R110', 'FLATBUSH AV-B.C'), 4215), (('R177', 'R273', '145 ST'), 4210), (('R730', 'R431', 'EASTCHSTER/DYRE'), 4210), (('N409', 'R268', 'METROPOLITAN AV'), 4183), (('R171', 'R192', 'CATHEDRAL PKWY'), 4169), (('H039', 'R375', 'NEW LOTS'), 4118), (('N531', 'R129', 'BERGEN ST'), 4110), (('D003', 'R391', 'FT HAMILTON PKY'), 4099), (('A041', 'R086', 'PRINCE ST'), 4075), (('R137', 'R031', '34 ST-PENN STA'), 4066), (('N129', 'R382', 'GRANT AV'), 4058), (('R102', 'R304', 'RECTOR ST'), 4043), (('N068', 'R012', '34 ST-PENN STA'), 4024), (('N120A', 'R153', 'UTICA AV'), 3997), (('B015', 'R098', 'CHURCH AV'), 3967), (('R644', 'R135', 'NEWKIRK AV'), 3967), (('R609', 'R056', 'NEVINS ST'), 3964), (('N116', 'R198', 'NOSTRAND AV'), 3949), (('N007A', 'R174', '181 ST'), 3920), (('R120', 'R320', 'CANAL ST'), 3920), (('R605', 'R456', 'HOYT ST'), 3919), (('N040', 'R251', '96 ST'), 3885), (('R525', 'R018', '74 ST-BROADWAY'), 3881), (('R245', 'R051', '59 ST'), 3879), (('N419', 'R287', 'CLASSON AV'), 3867), (('R203', 'R043', 'WALL ST'), 3827), (('N510', 'R163', '14 ST'), 3800), (('R635', 'R277', 'PRESIDENT ST'), 3768), (('R509', 'R121', 'QUEENSBORO PLZ'), 3751), (('A047', 'R087', 'CITY HALL'), 3737), (('N333A', 'R141', 'FOREST HILLS 71'), 3735), (('N408A', 'R256', 'NASSAU AV'), 3696), (('N057', 'R188', '50 ST'), 3685), (('A050', 'R088', 'CORTLANDT ST'), 3684), (('N511', 'R163', '14 ST'), 3669), (('N422', 'R318', 'FULTON ST'), 3668), (('B014', 'R148', 'PARKSIDE AV'), 3660), (('R131', 'R190', '23 ST'), 3655), (('N025', 'R102', '125 ST'), 3605), (('R163', 'R166', '79 ST'), 3570), (('R321', 'R386', '174 ST'), 3556), (('B029', 'R172', 'BRIGHTON BEACH'), 3536), (('N205', 'R195', '161/YANKEE STAD'), 3534), (('D005', 'R398', 'NEW UTRECHT AV'), 3528), (('N535', 'R220', 'CARROLL ST'), 3514), (('K019', 'R413', 'KNICKERBOCKER'), 3506), (('R128', 'R105', '14 ST'), 3500), (('R403', 'R446', 'BROOK AV'), 3497), (('N101', 'R252', 'HIGH ST'), 3491), (('N009', 'R174', '181 ST'), 3488), (('R647', 'R110', 'FLATBUSH AV-B.C'), 3488), (('R162', 'R166', '79 ST'), 3460), (('R133', 'R272', '28 ST'), 3446), (('N513', 'R163', '14 ST'), 3427), (('A069', 'R044', 'CHAMBERS ST'), 3415), (('R242A', 'R049', '51 ST'), 3405), (('R323', 'R387', 'WEST FARMS SQ'), 3405), (('N222', 'R156', 'BEDFORD PK BLVD'), 3398), (('R291', 'R183', 'BEDFORD PK BLVD'), 3368), (('N319', 'R298', 'NORTHERN BLVD'), 3363), (('J001', 'R460', 'MARCY AV'), 3342), (('N549', 'R242', '18 AV'), 3312), (('N340', 'R115', '169 ST'), 3305), (('R227A', 'R131', '23 ST'), 3290), (('B012', 'R196', 'PROSPECT PARK'), 3284), (('H040', 'R376', 'EAST 105 ST'), 3272), (('D012', 'R395', 'KINGS HWY'), 3263), (('N417', 'R269', 'BEDFORD-NOSTRAN'), 3260), (('R262', 'R195', '161/YANKEE STAD'), 3259), (('R232A', 'R176', '33 ST'), 3244), (('R186', 'R036', 'DYCKMAN ST'), 3232), (('R621', 'R060', 'EASTN PKWY-MUSM'), 3228), (('H005', 'R330', '3 AV'), 3222), (('R285', 'R308', 'MT EDEN AV'), 3211), (('R319', 'R409', 'FREEMAN ST'), 3211), (('N342', 'R019', 'JAMAICA 179 ST'), 3208), (('A011', 'R080', '57 ST-7 AV'), 3204), (('R624', 'R124', 'KINGSTON AV'), 3184), (('R257', 'R182', '116 ST'), 3179), (('N207', 'R104', '167 ST'), 3171), (('R130', 'R321', '18 ST'), 3171), (('H041', 'R152', 'CANARSIE-ROCKAW'), 3140), (('N203', 'R195', '161/YANKEE STAD'), 3132), (('A007', 'R079', '5 AV/59 ST'), 3131), (('R422', 'R428', 'BUHRE AV'), 3131), (('N316A', 'R267', '46 ST'), 3070), (('H032', 'R295', 'WILSON AV'), 3064), (('C021', 'R212', '59 ST'), 3048), (('N045', 'R187', '81 ST-MUSEUM'), 3047), (('R623', 'R061', 'NOSTRAND AV'), 3032), (('K017', 'R401', 'CENTRAL AV'), 3012), (('N340A', 'R115', '169 ST'), 3009), (('N220', 'R155', 'KINGSBRIDGE RD'), 3008), (('H017', 'R265', 'MONTROSE AV'), 3001), (('R309', 'R345', 'HARLEM 148 ST'), 2997), (('R416', 'R245', 'ST LAWRENCE AV'), 2991), (('A038', 'R085', '8 ST-NYU'), 2989), (('C027', 'R216', 'BAY RIDGE-95 ST'), 2987), (('R205A', 'R014', 'FULTON ST'), 2977), (('R600', 'R224', 'CLARK ST'), 2974), (('N412', 'R299', 'BROADWAY'), 2958), (('N118', 'R199', 'KINGSTON-THROOP'), 2955), (('N037', 'R314', '103 ST'), 2950), (('N557', 'R130', 'KINGS HWY'), 2938), (('N314', 'R238', 'STEINWAY ST'), 2928), (('J023', 'R436', 'NORWOOD AV'), 2921), (('N039', 'R251', '96 ST'), 2919), (('R532', 'R328', 'METS-WILLETS PT'), 2915), (('C011', 'R231', 'UNION ST'), 2905), (('N122', 'R439', 'ROCKAWAY AV'), 2904), (('R304', 'R206', '125 ST'), 2891), (('G011', 'R312', 'W 8 ST-AQUARIUM'), 2889), (('B021', 'R228', 'AVENUE J'), 2884), (('R115', 'R029', 'PARK PLACE'), 2880), (('H023', 'R236', 'DEKALB AV'), 2875), (('R604', 'R108', 'BOROUGH HALL'), 2856), (('E004', 'R234', '50 ST'), 2839), (('N224', 'R157', 'NORWOOD 205 ST'), 2800), (('A066', 'R118', 'CANAL ST'), 2799), (('J022', 'R435', 'CLEVELAND ST'), 2794), (('N331', 'R219', '67 AV'), 2792), (('R316', 'R407', 'INTERVALE AV'), 2792), (('N035', 'R334', 'CATHEDRAL PKWY'), 2766), (('H019', 'R294', 'MORGAN AV'), 2763), (('R303', 'R324', '116 ST'), 2743), (('N128', 'R200', 'EUCLID AV'), 2734), (('R286', 'R309', '176 ST'), 2722), (('A083', 'R125', 'BROAD ST'), 2685), (('J007', 'R377', 'FLUSHING AV'), 2681), (('H037', 'R349', 'SUTTER AV'), 2671), (('R197', 'R117', 'V.CORTLANDT PK'), 2652), (('A016', 'R081', '49 ST'), 2631), (('R188', 'R037', '207 ST'), 2631), (('B022', 'R229', 'AVENUE M'), 2618), (('N528', 'R257', 'EAST BROADWAY'), 2596), (('R636', 'R209', 'STERLING ST'), 2592), (('R293', 'R133', 'MOSHOLU PKWY'), 2585), (('N529', 'R257', 'EAST BROADWAY'), 2575), (('R328', 'R361', 'PELHAM PKWY'), 2571), (('N013', 'R035', '168 ST'), 2570), (('R310', 'R053', '3 AV-149 ST'), 2567), (('R230', 'R143', '28 ST'), 2561), (('N317', 'R267', '46 ST'), 2557), (('R259', 'R307', '138/GRAND CONC'), 2557), (('R288', 'R275', '183 ST'), 2554), (('C017', 'R455', '25 ST'), 2536), (('K024', 'R403', 'FOREST AVE'), 2535), (('R254', 'R181', '110 ST'), 2535), (('N225', 'R157', 'NORWOOD 205 ST'), 2531), (('B025', 'R150', 'AVENUE U'), 2500), (('H006', 'R330', '3 AV'), 2498), (('R226A', 'R131', '23 ST'), 2494), (('R204A', 'R043', 'WALL ST'), 2489), (('A064', 'R311', 'BOWERY'), 2484), (('J021', 'R434', 'VAN SICLEN AV'), 2473), (('R238A', 'R046', 'GRD CNTRL-42 ST'), 2472), (('N191', 'R335', 'BEACH 67 ST'), 2462), (('R619', 'R059', 'GRAND ARMY PLAZ'), 2459), (('R139', 'R031', '34 ST-PENN STA'), 2443), (('B028', 'R136', 'SHEEPSHEAD BAY'), 2437), (('E003', 'R369', 'FT HAMILTON PKY'), 2433), (('N310', 'R140', 'QUEENS PLAZA'), 2432), (('R409', 'R449', 'E 149 ST'), 2427), (('N002A', 'R173', 'INWOOD-207 ST'), 2416), (('N112A', 'R284', 'CLINTON-WASH AV'), 2394), (('H030', 'R266', 'HALSEY ST'), 2390), (('R504', 'R276', 'VERNON-JACKSON'), 2379), (('JFK02', 'R535', 'HOWARD BCH JFK'), 2376), (('R606', 'R225', 'HOYT ST'), 2369), (('R633', 'R068', 'VAN SICLEN AV'), 2367), (('K022', 'R402', 'SENECA AVE'), 2352), (('R118', 'R343', 'FRANKLIN ST'), 2350), (('R176', 'R169', '137 ST CITY COL'), 2336), (('N307', 'R359', 'COURT SQ-23 ST'), 2334), (('N121B', 'R438', 'RALPH AV'), 2332), (('C024', 'R214', '77 ST'), 2312), (('J016', 'R381', 'HALSEY ST'), 2301), (('N333', 'R141', 'FOREST HILLS 71'), 2301), (('B023', 'R211', 'KINGS HWY'), 2292), (('R103', 'R304', 'RECTOR ST'), 2262), (('N325A', 'R218', 'ELMHURST AV'), 2254), (('R305', 'R206', '125 ST'), 2238), (('R307', 'R207', '135 ST'), 2225), (('B017', 'R262', 'BEVERLEY ROAD'), 2212), (('R419', 'R326', 'ZEREGA AV'), 2208), (('N322', 'R340', '65 ST'), 2202), (('J020', 'R433', 'ALABAMA AV'), 2201), (('N542', 'R241', '15 ST-PROSPECT'), 2160), (('N030', 'R333', '116 ST'), 2153), (('N337', 'R255', 'BRIARWOOD'), 2151), (('R123', 'R290', 'HOUSTON ST'), 2143), (('R517', 'R291', '33 ST-RAWSON ST'), 2128), (('R125', 'R189', 'CHRISTOPHER ST'), 2119), (('N221', 'R155', 'KINGSBRIDGE RD'), 2114), (('R726', 'R329', 'MORRIS PARK'), 2110), (('J013', 'R380', 'GATES AV'), 2104), (('B020', 'R263', 'AVENUE H'), 2100), (('N312', 'R339', '36 ST'), 2062), (('R639', 'R109', 'CHURCH AV'), 2062), (('H038', 'R350', 'LIVONIA AV'), 2058), (('B010', 'R412', 'BOTANIC GARDEN'), 2035), (('R727', 'R430', 'PELHAM PKWY'), 1995), (('N338B', 'R128', 'SUTPHIN BLVD'), 1983), (('H003', 'R163', '6 AV'), 1970), (('N415', 'R286', 'MYRTLE-WILLOUGH'), 1968), (('N209', 'R443', '170 ST'), 1967), (('N023', 'R332', '135 ST'), 1943), (('C003', 'R089', 'JAY ST-METROTEC'), 1941), (('R421', 'R427', 'MIDDLETOWN RD'), 1922), (('J028', 'R004', '75 ST-ELDERTS'), 1915), (('R510', 'R090', '39 AV'), 1910), (('R172', 'R192', 'CATHEDRAL PKWY'), 1907), (('K026', 'R100', 'METROPOLITAN AV'), 1886), (('J005', 'R353', 'LORIMER ST'), 1884), (('N561', 'R271', 'AVENUE X'), 1874), (('A077', 'R028', 'FULTON ST'), 1855), (('R329', 'R362', 'ALLERTON AV'), 1822), (('R632', 'R067', 'PENNSYLVANIA AV'), 1822), (('R289', 'R119', 'FORDHAM RD'), 1821), (('N100', 'R252', 'HIGH ST'), 1812), (('J031', 'R006', 'WOODHAVEN BLVD'), 1809), (('D015', 'R396', 'AVENUE U'), 1798), (('E011', 'R371', '79 ST'), 1798), (('R618', 'R058', 'BERGEN ST'), 1774), (('N195', 'R358', 'BEACH 25 ST'), 1767), (('R215', 'R322', 'SPRING ST'), 1757), (('J035', 'R008', '111 ST'), 1755), (('N401', 'R360', '21 ST'), 1750), (('R413', 'R325', 'WHITLOCK AV'), 1732), (('N017', 'R331', '155 ST'), 1712), (('N555', 'R423', 'AVENUE N'), 1704), (('R166', 'R167', '86 ST'), 1703), (('N556', 'R424', 'AVENUE P'), 1699), (('R411', 'R450', 'LONGWOOD AV'), 1699), (('B009', 'R411', 'PARK PLACE'), 1694), (('N318', 'R298', 'NORTHERN BLVD'), 1677), (('R302', 'R324', '116 ST'), 1657), (('B018', 'R184', 'CORTELYOU RD'), 1653), (('N086', 'R282', 'SPRING ST'), 1647), (('N192', 'R336', 'BEACH 60 ST'), 1643), (('N110', 'R283', 'LAFAYETTE AV'), 1639), (('R333', 'R366', '225 ST'), 1636), (('R315', 'R406', 'PROSPECT AV'), 1631), (('R178', 'R273', '145 ST'), 1630), (('N548', 'R420', 'DITMAS AV'), 1629), (('R129', 'R321', '18 ST'), 1603), (('N202', 'R315', '155 ST'), 1597), (('J012', 'R379', 'KOSCIUSZKO ST'), 1555), (('A054', 'R227', 'RECTOR ST'), 1546), (('E012', 'R372', '18 AV'), 1544), (('H015', 'R250', 'GRAND ST'), 1543), (('J030', 'R005', '85 ST-FOREST PK'), 1536), (('N006A', 'R280', '190 ST'), 1505), (('R119', 'R320', 'CANAL ST'), 1493), (('R317', 'R408', 'SIMPSON ST'), 1489), (('E009', 'R370', '71 ST'), 1486), (('N181', 'R357', 'AQUEDUCT N.COND'), 1486), (('N184', 'R416', 'BEACH 90 ST'), 1481), (('R408', 'R449', 'E 149 ST'), 1475), (('H022', 'R279', 'JEFFERSON ST'), 1461), (('C001', 'R108', 'BOROUGH HALL'), 1442), (('R180', 'R193', '157 ST'), 1433), (('E013', 'R373', '20 AV'), 1423), (('N126', 'R441', 'VAN SICLEN AVE'), 1423), (('N414', 'R316', 'FLUSHING AV'), 1398), (('N559', 'R425', 'AVENUE U'), 1389), (('N532', 'R129', 'BERGEN ST'), 1371), (('R334', 'R367', '233 ST'), 1370), (('N127', 'R442', 'SHEPHERD AV'), 1365), (('N024', 'R332', '135 ST'), 1363), (('H028', 'R266', 'HALSEY ST'), 1362), (('N001', 'R173', 'INWOOD-207 ST'), 1347), (('N543', 'R289', 'FT HAMILTON PKY'), 1336), (('R294', 'R052', 'WOODLAWN'), 1335), (('N551', 'R421', 'AVENUE I'), 1320), (('N187', 'R419', 'ROCKAWAY PARK B'), 1305), (('R637', 'R451', 'WINTHROP ST'), 1304), (('N215', 'R237', '182-183 STS'), 1296), (('R306', 'R207', '135 ST'), 1296), (('R405', 'R447', 'CYPRESS AV'), 1295), (('R227', 'R131', '23 ST'), 1280), (('R402', 'R446', 'BROOK AV'), 1278), (('N111', 'R284', 'CLINTON-WASH AV'), 1258), (('H012', 'R268', 'LORIMER ST'), 1231), (('R194', 'R040', '231 ST'), 1216), (('N131', 'R383', '80 ST'), 1213), (('N414A', 'R316', 'FLUSHING AV'), 1210), (('R646', 'R110', 'FLATBUSH AV-B.C'), 1206), (('J003', 'R352', 'HEWES ST'), 1194), (('N125', 'R440', 'LIBERTY AV'), 1190), (('R332', 'R365', '219 ST'), 1185), (('R520', 'R223', '46 ST BLISS ST'), 1181), (('N208', 'R443', '170 ST'), 1179), (('R335', 'R444', 'NEREID AV'), 1174), (('N134', 'R385', 'ROCKAWAY BLVD'), 1170), (('J017', 'R432', 'CHAUNCEY ST'), 1163), (('D016', 'R397', '86 ST'), 1132), (('R728', 'R226', 'GUN HILL RD'), 1132), (('E015', 'R399', '25 AV'), 1130), (('N185', 'R417', 'BEACH 98 ST'), 1122), (('N034', 'R334', 'CATHEDRAL PKWY'), 1114), (('R192', 'R039', 'MARBLE HILL-225'), 1108), (('R404', 'R447', 'CYPRESS AV'), 1103), (('N316', 'R267', '46 ST'), 1099), (('JFK01', 'R535', 'HOWARD BCH JFK'), 1087), (('N541', 'R241', '15 ST-PROSPECT'), 1084), (('N332', 'R219', '67 AV'), 1082), (('N113', 'R297', 'FRANKLIN AV'), 1065), (('B026', 'R230', 'NECK RD'), 1052), (('N075', 'R111', '23 ST'), 1050), (('N133', 'R384', '88 ST'), 1047), (('C010', 'R231', 'UNION ST'), 1045), (('H033', 'R313', 'BUSHWICK AV'), 1045), (('C022', 'R212', '59 ST'), 1040), (('N011', 'R126', '175 ST'), 1032), (('R326', 'R389', 'BRONX PARK EAST'), 1032), (('R122', 'R290', 'HOUSTON ST'), 1019), (('B032', 'R264', 'OCEAN PKWY'), 1013), (('N119', 'R199', 'KINGSTON-THROOP'), 1011), (('N311', 'R339', '36 ST'), 1000), (('R330', 'R363', 'BURKE AV'), 1000), (('E005', 'R247', '55 ST'), 976), (('C016', 'R278', '25 ST'), 974), (('N194', 'R338', 'BEACH 36 ST'), 971), (('R410', 'R450', 'LONGWOOD AV'), 950), (('N135', 'R385', 'ROCKAWAY BLVD'), 922), (('N212', 'R253', '174-175 STS'), 918), (('N016A', 'R296', '163 ST-AMSTERDM'), 912), (('N553', 'R422', 'BAY PKWY'), 886), (('N130', 'R383', '80 ST'), 853), (('R312', 'R405', 'JACKSON AV'), 844), (('R117', 'R343', 'FRANKLIN ST'), 834), (('N534', 'R220', 'CARROLL ST'), 828), (('H013', 'R249', 'GRAHAM AV'), 820), (('A071', 'R044', 'CHAMBERS ST'), 803), (('PTH18', 'R549', 'NEWARK BM BW'), 790), (('N210', 'R253', '174-175 STS'), 780), (('N533', 'R129', 'BERGEN ST'), 771), (('R327', 'R361', 'PELHAM PKWY'), 763), (('R190', 'R038', '215 ST'), 746), (('N012', 'R035', '168 ST'), 738), (('J025', 'R003', 'CYPRESS HILLS'), 734), (('R617', 'R058', 'BERGEN ST'), 725), (('E016', 'R400', 'BAY 50 ST'), 712), (('N193', 'R337', 'BEACH 44 ST'), 711), (('R203A', 'R043', 'WALL ST'), 703), (('H035', 'R348', 'ATLANTIC AV'), 701), (('R641', 'R210', 'BEVERLY RD'), 700), (('R121', 'R290', 'HOUSTON ST'), 667), (('R407', 'R448', \"E 143/ST MARY'S\"), 666), (('N545', 'R204', 'CHURCH AV'), 654), (('R260', 'R205', '149/GRAND CONC'), 643), (('N330C', 'R202', '63 DR-REGO PARK'), 638), (('N087', 'R282', 'SPRING ST'), 632), (('N562', 'R426', 'NEPTUNE AV'), 612), (('N558', 'R130', 'KINGS HWY'), 597), (('B034', 'R264', 'OCEAN PKWY'), 594), (('N206', 'R104', '167 ST'), 534), (('N137', 'R354', '104 ST'), 531), (('N186', 'R418', 'BEACH 105 ST'), 521), (('R729', 'R292', 'BAYCHESTER AV'), 508), (('R318', 'R408', 'SIMPSON ST'), 499), (('N139', 'R355', '111 ST'), 486), (('A055', 'R227', 'RECTOR ST'), 483), (('N420B', 'R317', 'CLINTON-WASH AV'), 482), (('D008', 'R392', '18 AV'), 480), (('N338', 'R128', 'SUTPHIN BLVD'), 465), (('N182', 'R414', 'HOWARD BCH JFK'), 464), (('N329A', 'R201', 'WOODHAVEN BLVD'), 430), (('R643', 'R135', 'NEWKIRK AV'), 430), (('R314', 'R406', 'PROSPECT AV'), 424), (('C004', 'R089', 'JAY ST-METROTEC'), 417), (('N544', 'R289', 'FT HAMILTON PKY'), 409), (('R322', 'R386', '174 ST'), 408), (('N418', 'R269', 'BEDFORD-NOSTRAN'), 356), (('N547', 'R420', 'DITMAS AV'), 350), (('N138', 'R355', '111 ST'), 330), (('C026', 'R215', '86 ST'), 308), (('R320', 'R409', 'FREEMAN ST'), 302), (('R406', 'R448', \"E 143/ST MARY'S\"), 300), (('D009', 'R393', '20 AV'), 294), (('J032', 'R006', 'WOODHAVEN BLVD'), 225), (('N218', 'R112', 'FORDHAM RD'), 217), (('N416', 'R286', 'MYRTLE-WILLOUGH'), 217), (('N339', 'R114', 'PARSONS BLVD'), 210), (('A082', 'R028', 'FULTON ST'), 207), (('N223', 'R156', 'BEDFORD PK BLVD'), 202), (('N334B', 'R341', '75 AV'), 167), (('N181A', 'R464', 'AQUEDUCT RACETR'), 164), (('R308', 'R344', '145 ST'), 163), (('N003', 'R185', 'DYCKMAN ST'), 161), (('C028', 'R216', 'BAY RIDGE-95 ST'), 149), (('PTH19', 'R549', 'NEWARK C'), 145), (('R506', 'R276', 'VERNON-JACKSON'), 139), (('J037', 'R009', '121 ST'), 130), (('J034', 'R007', '104 ST'), 120), (('G015', 'R312', 'W 8 ST-AQUARIUM'), 100), (('N123B', 'R439', 'ROCKAWAY AV'), 96), (('N183', 'R415', 'BROAD CHANNEL'), 96), (('R196', 'R306', '238 ST'), 95), (('N022', 'R332', '135 ST'), 74), (('A084', 'R125', 'BROAD ST'), 64), (('TRAM2', 'R469', 'RIT-ROOSEVELT'), 56), (('TRAM1', 'R468', 'RIT-MANHATTAN'), 55), (('OB01', 'R459', 'ORCHARD BEACH'), 18), (('A085', 'R125', 'BROAD ST'), 0), (('N550', 'R242', '18 AV'), 0), (('N554', 'R423', 'AVENUE N'), 0), (('R262A', 'R195', '161/YANKEE STAD'), 0), (('R262B', 'R195', '161/YANKEE STAD'), 0), (('S101', 'R070', 'ST. GEORGE'), 0), (('S101A', 'R070', 'ST. GEORGE'), 0), (('S102', 'R165', 'TOMPKINSVILLE'), 0)]\n"
     ]
    }
   ],
   "source": [
    "#insert 15\n",
    "tuple_list.remove((('PTH03', 'R552', 'JOURNAL SQUARE'), -45421))\n",
    "tuple_list.remove((('R241A', 'R048', 'GRD CNTRL-42 ST'), -2060))\n",
    "tuple_list.remove((('N029', 'R333', '116 ST'), -333))\n",
    "print(tuple_list)"
   ]
  },
  {
   "cell_type": "markdown",
   "metadata": {},
   "source": [
    "16.Create a barchart for the number of riders. You don't need to keep track of the names of each station, as that would get really messy to plot. Instead, you can just use a list comprehension to save the rider numbers to the y-values and give the stations the numbers 0,1,2,3,... for the x-values. You can use the following piece of code. Remember to add in axis labels and a title.\n",
    "\n",
    "x = range(len(tuple_list))\n",
    "\n",
    "y = [tuple_list[i][0] for i in range(len(tuple_list))]\n",
    "\n",
    "plt.bar(x,y)"
   ]
  },
  {
   "cell_type": "code",
   "execution_count": 90,
   "metadata": {},
   "outputs": [
    {
     "data": {
      "image/png": "[encoded data removed]",
      "text/plain": [
       "<matplotlib.figure.Figure at 0x11e3abda0>"
      ]
     },
     "metadata": {},
     "output_type": "display_data"
    }
   ],
   "source": [
    "#insert 16\n",
    "import matplotlib.pyplot as plt\n",
    "x = range(len(tuple_list))\n",
    "y = [tuple_list[i][1] for i in range(len(tuple_list))]\n",
    "plt.bar(x,y)\n",
    "plt.xlabel('Stations')\n",
    "plt.ylabel('Riders')\n",
    "plt.title('Number of Riders for Each Station')\n",
    "plt.show()"
   ]
  },
  {
   "cell_type": "markdown",
   "metadata": {},
   "source": [
    "17.Perhaps we don't care about total ridership in a 24 period. Perhaps we only care about the morning commute. Let's assume that the majority of people arrive at their work location subway exit between 8 and 9 am.  \n",
    "\n",
    "Go back up to your frequency chart in Exercise 9. Note that the most common morning commutes would be gained from subtracting 9 am - 5 am and 10 am - 6 am and 11 am - 7 am and 12pm - 8am, for the stations that are broken down by those specific four hour intervals.\n",
    "\n",
    "As a dirty way to consider only the stations that are on these time intervals, save just the rows in your original monday dataframe that contain the TIME strings '05:00:00', '06:00:00',..., '12:00:00'. Remember you can do this by using OR statements using the \"|\" symbol and remembering parenthesis. Call this new dataframe \"morning\". Be sure to reset its index."
   ]
  },
  {
   "cell_type": "code",
   "execution_count": 115,
   "metadata": {},
   "outputs": [
    {
     "data": {
      "text/html": [
       "<div>\n",
       "<style>\n",
       "    .dataframe thead tr:only-child th {\n",
       "        text-align: right;\n",
       "    }\n",
       "\n",
       "    .dataframe thead th {\n",
       "        text-align: left;\n",
       "    }\n",
       "\n",
       "    .dataframe tbody tr th {\n",
       "        vertical-align: top;\n",
       "    }\n",
       "</style>\n",
       "<table border=\"1\" class=\"dataframe\">\n",
       "  <thead>\n",
       "    <tr style=\"text-align: right;\">\n",
       "      <th></th>\n",
       "      <th>C/A</th>\n",
       "      <th>UNIT</th>\n",
       "      <th>SCP</th>\n",
       "      <th>STATION</th>\n",
       "      <th>LINENAME</th>\n",
       "      <th>DIVISION</th>\n",
       "      <th>DATE</th>\n",
       "      <th>TIME</th>\n",
       "      <th>DESC</th>\n",
       "      <th>ENTRIES</th>\n",
       "      <th>EXITS</th>\n",
       "    </tr>\n",
       "  </thead>\n",
       "  <tbody>\n",
       "    <tr>\n",
       "      <th>0</th>\n",
       "      <td>A002</td>\n",
       "      <td>R051</td>\n",
       "      <td>02-00-00</td>\n",
       "      <td>59 ST</td>\n",
       "      <td>NQR456W</td>\n",
       "      <td>BMT</td>\n",
       "      <td>06/12/2017</td>\n",
       "      <td>08:00:00</td>\n",
       "      <td>REGULAR</td>\n",
       "      <td>6217372</td>\n",
       "      <td>2104813</td>\n",
       "    </tr>\n",
       "    <tr>\n",
       "      <th>1</th>\n",
       "      <td>A002</td>\n",
       "      <td>R051</td>\n",
       "      <td>02-00-00</td>\n",
       "      <td>59 ST</td>\n",
       "      <td>NQR456W</td>\n",
       "      <td>BMT</td>\n",
       "      <td>06/12/2017</td>\n",
       "      <td>12:00:00</td>\n",
       "      <td>REGULAR</td>\n",
       "      <td>6217540</td>\n",
       "      <td>2105024</td>\n",
       "    </tr>\n",
       "    <tr>\n",
       "      <th>2</th>\n",
       "      <td>A002</td>\n",
       "      <td>R051</td>\n",
       "      <td>02-00-01</td>\n",
       "      <td>59 ST</td>\n",
       "      <td>NQR456W</td>\n",
       "      <td>BMT</td>\n",
       "      <td>06/12/2017</td>\n",
       "      <td>08:00:00</td>\n",
       "      <td>REGULAR</td>\n",
       "      <td>5615730</td>\n",
       "      <td>1247491</td>\n",
       "    </tr>\n",
       "    <tr>\n",
       "      <th>3</th>\n",
       "      <td>A002</td>\n",
       "      <td>R051</td>\n",
       "      <td>02-00-01</td>\n",
       "      <td>59 ST</td>\n",
       "      <td>NQR456W</td>\n",
       "      <td>BMT</td>\n",
       "      <td>06/12/2017</td>\n",
       "      <td>12:00:00</td>\n",
       "      <td>REGULAR</td>\n",
       "      <td>5615864</td>\n",
       "      <td>1247619</td>\n",
       "    </tr>\n",
       "    <tr>\n",
       "      <th>4</th>\n",
       "      <td>A002</td>\n",
       "      <td>R051</td>\n",
       "      <td>02-03-00</td>\n",
       "      <td>59 ST</td>\n",
       "      <td>NQR456W</td>\n",
       "      <td>BMT</td>\n",
       "      <td>06/12/2017</td>\n",
       "      <td>08:00:00</td>\n",
       "      <td>REGULAR</td>\n",
       "      <td>926883</td>\n",
       "      <td>3436892</td>\n",
       "    </tr>\n",
       "  </tbody>\n",
       "</table>\n",
       "</div>"
      ],
      "text/plain": [
       "    C/A  UNIT       SCP STATION LINENAME DIVISION        DATE      TIME  \\\n",
       "0  A002  R051  02-00-00   59 ST  NQR456W      BMT  06/12/2017  08:00:00   \n",
       "1  A002  R051  02-00-00   59 ST  NQR456W      BMT  06/12/2017  12:00:00   \n",
       "2  A002  R051  02-00-01   59 ST  NQR456W      BMT  06/12/2017  08:00:00   \n",
       "3  A002  R051  02-00-01   59 ST  NQR456W      BMT  06/12/2017  12:00:00   \n",
       "4  A002  R051  02-03-00   59 ST  NQR456W      BMT  06/12/2017  08:00:00   \n",
       "\n",
       "      DESC  ENTRIES    EXITS  \n",
       "0  REGULAR  6217372  2104813  \n",
       "1  REGULAR  6217540  2105024  \n",
       "2  REGULAR  5615730  1247491  \n",
       "3  REGULAR  5615864  1247619  \n",
       "4  REGULAR   926883  3436892  "
      ]
     },
     "execution_count": 115,
     "metadata": {},
     "output_type": "execute_result"
    }
   ],
   "source": [
    "#insert 17\n",
    "morning = monday[(monday.TIME == '05:00:00') | (monday.TIME == '06:00:00') | (monday.TIME == '07:00:00')|(monday.TIME == '08:00:00') | (monday.TIME == '09:00:00') | (monday.TIME == '10:00:00')| (monday.TIME == '11:00:00') | (monday.TIME == '12:00:00') ]\n",
    "morning = morning.reset_index(drop=True)\n",
    "morning.head()"
   ]
  },
  {
   "cell_type": "markdown",
   "metadata": {},
   "source": [
    "18.Now create a morning_dict by repeating your work in Exercise 7 on this morning dataframe. The dictionary should map the tuple (C/A, UNIT, SCP,STATION) to an inner dictionary containing {TIME: EXITS} for all Monday rides.\n",
    "\n",
    "Hint: ('A002', 'R051', '02-00-00','59 ST') should map to {'08:00:00': 2104813, '12:00:00': 2105024}."
   ]
  },
  {
   "cell_type": "code",
   "execution_count": 116,
   "metadata": {},
   "outputs": [
    {
     "name": "stdout",
     "output_type": "stream",
     "text": [
      "[('08:00:00', 2104813), ('12:00:00', 2105024)]\n"
     ]
    }
   ],
   "source": [
    "#insert 18\n",
    "morning_dict = {}\n",
    "for i in range(len(morning.index)):\n",
    "    mytuple = (morning['C/A'][i], morning.UNIT[i],morning.SCP[i],morning.STATION[i])\n",
    "    if mytuple not in morning_dict.keys():\n",
    "        morning_dict[mytuple]=[(morning.TIME[i],morning.EXITS[i])]\n",
    "    else:\n",
    "        morning_dict[mytuple].append((morning.TIME[i],morning.EXITS[i]))\n",
    "print(morning_dict[('A002', 'R051', '02-00-00','59 ST')])"
   ]
  },
  {
   "cell_type": "markdown",
   "metadata": {},
   "source": [
    "19.We're almost ready to subtract the two consecutive times for each station to get the morning commutes. That is, if there are exactly two times for each station. Find which stations keys in your dictionary above do not contain exactly two times and delete them from the morning dictionary.\n",
    "\n",
    "How many keys are left in your morning_dict? There should be 4293."
   ]
  },
  {
   "cell_type": "code",
   "execution_count": 127,
   "metadata": {},
   "outputs": [
    {
     "name": "stdout",
     "output_type": "stream",
     "text": [
      "4293\n"
     ]
    }
   ],
   "source": [
    "#insert 19\n",
    "x = []\n",
    "for a,b in morning_dict.items():\n",
    "    if len(b) != 2:\n",
    "        x.append(a)\n",
    "for i in x:\n",
    "    morning_dict.pop(i)\n",
    "print(len(morning_dict))"
   ]
  },
  {
   "cell_type": "markdown",
   "metadata": {},
   "source": [
    "20.Create a dictionary called morning_differences where (C/A, UNIT, STATION) maps to an inner dictionary containing {SCP: Morning Exit Differences}.\n",
    "\n",
    "For example, ('A002', 'R051', '59 ST') should map to:\n",
    "\n",
    "{'02-00-00': 211,\n",
    " '02-00-01': 128,\n",
    " '02-03-00': 654,\n",
    " '02-03-01': 630,\n",
    " '02-03-02': 533,\n",
    " '02-03-03': 401,\n",
    " '02-03-04': 186,\n",
    " '02-03-05': 49,\n",
    " '02-03-06': 8,\n",
    " '02-05-00': 0,\n",
    " '02-05-01': 0,\n",
    " '02-06-00': 4}"
   ]
  },
  {
   "cell_type": "code",
   "execution_count": 124,
   "metadata": {},
   "outputs": [
    {
     "name": "stdout",
     "output_type": "stream",
     "text": [
      "[('02-00-00', 211), ('02-00-01', 128), ('02-03-00', 654), ('02-03-01', 630), ('02-03-02', 533), ('02-03-03', 401), ('02-03-04', 186), ('02-03-05', 49), ('02-03-06', 8), ('02-05-00', 0), ('02-05-01', 0), ('02-06-00', 4)]\n"
     ]
    }
   ],
   "source": [
    "#insert 20\n",
    "morning_differences = {}\n",
    "for a,b in morning_dict.items():\n",
    "    for i in range(1):\n",
    "        key = (a[0],a[1],a[3])\n",
    "        diff = b[i+1][1]-b[i][1]\n",
    "        if key not in morning_differences.keys():\n",
    "            morning_differences[key]=[(a[2],diff)]\n",
    "        else:\n",
    "            morning_differences[key].append((a[2],diff))\n",
    "print(morning_differences[('A002', 'R051', '59 ST')])"
   ]
  },
  {
   "cell_type": "markdown",
   "metadata": {},
   "source": [
    "21.Create a dictionary called total_morning_diff that maps each (C/A, Unit, Station) location to the total morning riders passing through ALL of the turnstiles in that area.\n",
    "\n",
    "Hint 1: see your work in Exercise 13.\n",
    "\n",
    "Hint 2: ('A002', 'R051','59 ST') should have 2804 morning commuter exits.\n"
   ]
  },
  {
   "cell_type": "code",
   "execution_count": 126,
   "metadata": {},
   "outputs": [
    {
     "name": "stdout",
     "output_type": "stream",
     "text": [
      "2804\n"
     ]
    }
   ],
   "source": [
    "#insert 21\n",
    "total_morning_diff = {}\n",
    "for a,b in morning_differences.items():\n",
    "    x = 0\n",
    "    for i in range(len(b)):\n",
    "        x += b[i][1]\n",
    "    total_morning_diff[a]=x\n",
    "print(total_morning_diff[('A002', 'R051', '59 ST')])"
   ]
  },
  {
   "cell_type": "markdown",
   "metadata": {},
   "source": [
    "22.Create a list of sorted tuples to see the most popular morning exits.\n",
    "\n",
    "Hint:  ('R238', 'R046', 'GRD CNTRL-42 ST') should be the highest with 17,300 morning exits."
   ]
  },
  {
   "cell_type": "code",
   "execution_count": 134,
   "metadata": {},
   "outputs": [
    {
     "name": "stdout",
     "output_type": "stream",
     "text": [
      "(('R238', 'R046', 'GRD CNTRL-42 ST'), 17300)\n"
     ]
    }
   ],
   "source": [
    "#insert 22\n",
    "popular = []\n",
    "for a,b in total_morning_diff.items():\n",
    "    popular.append((a,b))\n",
    "popular = sorted(popular, key=lambda x:(-x[1],x[0]))\n",
    "print(popular[0])"
   ]
  },
  {
   "cell_type": "markdown",
   "metadata": {},
   "source": [
    "23.We notice that the ('R204', 'R043', 'WALL ST') stop is pretty high on the Monday morning list. How can we tell if this exit is more of a commuter or tourist exit? Maybe we'll see if the total number of people is higher on a weekday than a weekend. Go back to the original df dataframe. Save only the items that contain ('R204', 'R043', 'WALL ST') to a dataframe called wallstreet and create a list of tuples where the first entry is the date and the second entry is the total ridership. \n",
    "\n",
    "Hint: there should be 9936 riders on 06/15/2017."
   ]
  },
  {
   "cell_type": "code",
   "execution_count": 204,
   "metadata": {},
   "outputs": [
    {
     "name": "stdout",
     "output_type": "stream",
     "text": [
      "9936\n"
     ]
    }
   ],
   "source": [
    "#insert 23\n",
    "wallstreet = df[(df['C/A'] == 'R204') & (df.UNIT == 'R043') & (df.STATION == 'WALL ST')]\n",
    "wallstreet = wallstreet.reset_index(drop=True)\n",
    "\n",
    "dic = {}\n",
    "for i in range(len(wallstreet.index)):\n",
    "    key = (wallstreet.DATE[i],wallstreet.SCP[i])\n",
    "    if key not in dic.keys():\n",
    "        dic[key]=[(wallstreet.TIME[i],wallstreet.EXITS[i])]\n",
    "    else:\n",
    "        dic[key].append((wallstreet.TIME[i],wallstreet.EXITS[i]))\n",
    "\n",
    "diffs = {}\n",
    "for a,b in dic.items():\n",
    "    for i in range(len(b)-1):\n",
    "        diff = b[i+1][1]-b[i][1]\n",
    "        if a not in diffs.keys():\n",
    "            diffs[a]=diff\n",
    "        else:\n",
    "            diffs[a]+=diff\n",
    "\n",
    "riders = {}\n",
    "for a,b in diffs.items():\n",
    "    if a[0] not in riders:\n",
    "        riders[a[0]] = b\n",
    "    else:\n",
    "        riders[a[0]] += b\n",
    "\n",
    "n = []\n",
    "for a,b in riders.items():\n",
    "    n.append((a,b))\n",
    "for i in n:\n",
    "    if i[0] == '06/15/2017':\n",
    "        print(i[1])"
   ]
  },
  {
   "cell_type": "markdown",
   "metadata": {},
   "source": [
    "24.Plot the list of tuples you made where date is the x-axis and ridership is the y-axis for this wall street station.\n",
    "\n",
    "Hint: you'll first need to use datetime to convert the dates to datetime format."
   ]
  },
  {
   "cell_type": "code",
   "execution_count": 235,
   "metadata": {},
   "outputs": [
    {
     "data": {
      "image/png": "[encoded data removed]",
      "text/plain": [
       "<matplotlib.figure.Figure at 0x11d408400>"
      ]
     },
     "metadata": {},
     "output_type": "display_data"
    }
   ],
   "source": [
    "#insert 24\n",
    "import matplotlib.pyplot as plt\n",
    "from datetime import datetime\n",
    "date = []\n",
    "riders = []\n",
    "for i in n:\n",
    "    date.append(datetime.strptime(i[0],'%m/%d/%Y'))\n",
    "    riders.append(i[1])\n",
    "plt.figure(figsize=(10,6))\n",
    "plt.bar(date,riders)\n",
    "plt.xlabel('Dates')\n",
    "plt.ylabel('Riders')\n",
    "plt.title('Number of Riders')\n",
    "plt.show()"
   ]
  },
  {
   "cell_type": "markdown",
   "metadata": {},
   "source": [
    "25.Now use datetime to convert the dates to \"Mon\", \"Tues\", etc and print the days of the week with corresponding ridership. Is this a commuter stop or a tourist stop?"
   ]
  },
  {
   "cell_type": "code",
   "execution_count": 233,
   "metadata": {},
   "outputs": [
    {
     "name": "stdout",
     "output_type": "stream",
     "text": [
      "This is a commuter stop because the ridership is higher on weekdays than on weekends.\n"
     ]
    },
    {
     "name": "stderr",
     "output_type": "stream",
     "text": [
      "/Users/AnnieCheng/anaconda/lib/python3.6/site-packages/numpy/core/fromnumeric.py:2889: RuntimeWarning: Mean of empty slice.\n",
      "  out=out, **kwargs)\n",
      "/Users/AnnieCheng/anaconda/lib/python3.6/site-packages/numpy/core/_methods.py:80: RuntimeWarning: invalid value encountered in double_scalars\n",
      "  ret = ret.dtype.type(ret / rcount)\n"
     ]
    }
   ],
   "source": [
    "#insert 25\n",
    "import numpy as np\n",
    "days = []\n",
    "for i in date:\n",
    "    days.append(i.strftime('%a'))\n",
    "x = list(zip(days,riders))\n",
    "\n",
    "weekday = []\n",
    "weekend = []\n",
    "for i in x:\n",
    "    if i[0] == 'Sat' or 'Sun':\n",
    "        weekend.append(i[1])\n",
    "    else:\n",
    "        weekday.append(i[1])\n",
    "if np.mean(weekend) > np.mean(weekday):\n",
    "    print('This is a tourist stop because the ridership is lower on weekdays than on weekends.')\n",
    "else:\n",
    "    print('This is a commuter stop because the ridership is higher on weekdays than on weekends.')"
   ]
  }
 ],
 "metadata": {
  "kernelspec": {
   "display_name": "Python 3",
   "language": "python",
   "name": "python3"
  },
  "language_info": {
   "codemirror_mode": {
    "name": "ipython",
    "version": 3
   },
   "file_extension": ".py",
   "mimetype": "text/x-python",
   "name": "python",
   "nbconvert_exporter": "python",
   "pygments_lexer": "ipython3",
   "version": "3.6.1"
  }
 },
 "nbformat": 4,
 "nbformat_minor": 1
}
