{
 "cells": [
  {
   "cell_type": "code",
   "execution_count": 2,
   "metadata": {
    "scrolled": true
   },
   "outputs": [
    {
     "name": "stdout",
     "output_type": "stream",
     "text": [
      "Locations and Times on Monday:  [(('N063A', 'R011', '00-00-00', '42 ST-PORT AUTH', '20:00:00'), 4331), (('R238', 'R046', '00-06-02', 'GRD CNTRL-42 ST', '12:00:00'), 4251), (('R238', 'R046', '00-03-02', 'GRD CNTRL-42 ST', '20:00:00'), 3968), (('R238', 'R046', '00-06-00', 'GRD CNTRL-42 ST', '12:00:00'), 3878), (('N063A', 'R011', '00-00-01', '42 ST-PORT AUTH', '20:00:00'), 3867), (('R238', 'R046', '00-06-01', 'GRD CNTRL-42 ST', '12:00:00'), 3589), (('R238', 'R046', '00-03-00', 'GRD CNTRL-42 ST', '20:00:00'), 3567), (('R501', 'R054', '00-00-00', '5 AVE', '16:00:00'), 3425), (('R610', 'R057', '00-03-00', 'ATL AV-BARCLAY', '20:00:00'), 3298), (('R238', 'R046', '00-06-02', 'GRD CNTRL-42 ST', '20:00:00'), 3281), (('A022', 'R022', '01-00-00', '34 ST-HERALD SQ', '20:00:00'), 3264), (('R417', 'R222', '00-00-01', 'PARKCHESTER', '09:00:00'), 3233), (('R240', 'R047', '00-00-00', 'GRD CNTRL-42 ST', '21:00:00'), 3210), (('R240', 'R047', '00-00-00', 'GRD CNTRL-42 ST', '13:00:00'), 3202), (('N083', 'R138', '01-00-00', 'W 4 ST-WASH SQ', '21:00:00'), 3176), (('N601', 'R319', '00-00-00', 'LEXINGTON AV/63', '12:00:00'), 3110), (('R238', 'R046', '00-03-01', 'GRD CNTRL-42 ST', '20:00:00'), 3103), (('A033', 'R170', '02-00-04', '14 ST-UNION SQ', '21:00:00'), 3094), (('R240', 'R047', '00-00-00', 'GRD CNTRL-42 ST', '09:00:00'), 3077), (('R249', 'R179', '01-00-00', '86 ST', '20:00:00'), 3005), (('N067', 'R012', '00-05-00', '34 ST-PENN STA', '20:00:00'), 2996), (('R240', 'R047', '00-03-08', 'GRD CNTRL-42 ST', '21:00:00'), 2958), (('N507', 'R023', '00-00-00', '34 ST-HERALD SQ', '20:00:00'), 2949), (('A025', 'R023', '01-06-01', '34 ST-HERALD SQ', '20:00:00'), 2943), (('A025', 'R023', '01-06-00', '34 ST-HERALD SQ', '12:00:00'), 2933), (('N063A', 'R011', '00-00-02', '42 ST-PORT AUTH', '20:00:00'), 2933), (('A025', 'R023', '01-06-00', '34 ST-HERALD SQ', '20:00:00'), 2851), (('N506', 'R022', '00-00-00', '34 ST-HERALD SQ', '20:00:00'), 2763), (('R238', 'R046', '00-06-00', 'GRD CNTRL-42 ST', '20:00:00'), 2747), (('A022', 'R022', '01-00-02', '34 ST-HERALD SQ', '20:00:00'), 2744)]\n"
     ]
    }
   ],
   "source": [
    "import pandas as pd\n",
    "\n",
    "df = pd.read_csv('turnstile_170617.csv')\n",
    "df.columns = df.columns.str.strip()\n",
    "df = df[(df.TIME == '05:00:00') | (df.TIME == '06:00:00') | (df.TIME == '07:00:00')|(df.TIME == '08:00:00') | (df.TIME == '09:00:00') | (df.TIME == '10:00:00')| (df.TIME == '11:00:00') | (df.TIME == '12:00:00')| (df.TIME == '13:00:00') | (df.TIME == '14:00:00') | (df.TIME == '15:00:00')|(df.TIME == '16:00:00') | (df.TIME == '17:00:00') | (df.TIME == '18:00:00')| (df.TIME == '19:00:00') | (df.TIME == '20:00:00') | (df.TIME == '21:00:00') | (df.TIME == '22:00:00') | (df.TIME == '23:00:00')|(df.TIME == '00:00:00') | (df.TIME == '01:00:00') | (df.TIME == '02:00:00')| (df.TIME == '03:00:00') | (df.TIME == '04:00:00') ]\n",
    "\n",
    "#create a dateframe for Monday\n",
    "monday = df[df.DATE == '06/12/2017']\n",
    "monday = monday.reset_index(drop=True)\n",
    "\n",
    "#find the number of people at the exits for each station, SCP, unit, and C/A for each time period of 4 hours\n",
    "exits = {}\n",
    "for i in range(len(monday.index)):\n",
    "    mytuple = (monday['C/A'][i], monday.UNIT[i],monday.SCP[i],monday.STATION[i])\n",
    "    if mytuple not in exits.keys():\n",
    "        exits[mytuple]=[(monday.TIME[i],monday.EXITS[i])]\n",
    "    else:\n",
    "        exits[mytuple].append((monday.TIME[i],monday.EXITS[i]))\n",
    "\n",
    "exits_diff = {}\n",
    "for a,b in exits.items():\n",
    "    for i in range(len(b)-1):\n",
    "        diff = b[i+1][1]-b[i][1]\n",
    "        if a not in exits_diff.keys():\n",
    "            exits_diff[a]=[(b[i+1][0],diff)]\n",
    "        else:\n",
    "            exits_diff[a].append((b[i+1][0],diff))\n",
    "\n",
    "#find the number of people at the entries for each station, SCP, unit, and C/A for each time period of 4 hours\n",
    "entries = {}\n",
    "for i in range(len(monday.index)):\n",
    "    mytuple = (monday['C/A'][i], monday.UNIT[i],monday.SCP[i],monday.STATION[i])\n",
    "    if mytuple not in entries.keys():\n",
    "        entries[mytuple]=[(monday.TIME[i],monday.ENTRIES[i])]\n",
    "    else:\n",
    "        entries[mytuple].append((monday.TIME[i],monday.ENTRIES[i]))\n",
    "\n",
    "entries_diff = {}\n",
    "for a,b in entries.items():\n",
    "    for i in range(len(b)-1):\n",
    "        diff = b[i+1][1]-b[i][1]\n",
    "        if a not in entries_diff.keys():\n",
    "            entries_diff[a]=[(b[i+1][0],diff)]\n",
    "        else:\n",
    "            entries_diff[a].append((b[i+1][0],diff))\n",
    "\n",
    "#combine the exits and entries numbers\n",
    "n_mon = {}\n",
    "for a,b in exits_diff.items():\n",
    "    for i in range(len(b)):\n",
    "        n_mon[(a[0],a[1],a[2],a[3],b[i][0])]=b[i][1]\n",
    "        \n",
    "for a,b in entries_diff.items():\n",
    "    for i in range(len(b)):\n",
    "        n_mon[(a[0],a[1],a[2],a[3],b[i][0])]+=b[i][1]\n",
    "\n",
    "#sort the numebrs in a list and find out the times and locations where we get the most number of people\n",
    "n = []\n",
    "for a,b in n_mon.items():\n",
    "    n.append((a,b))\n",
    "n = sorted(n, key=lambda x:(-x[1],x[0]))\n",
    "print('Locations and Times on Monday: ', n[:30])"
   ]
  },
  {
   "cell_type": "code",
   "execution_count": 3,
   "metadata": {},
   "outputs": [
    {
     "name": "stdout",
     "output_type": "stream",
     "text": [
      "(('N063A', 'R011', '00-00-00', '42 ST-PORT AUTH', '20:00:00'), 4331)\n",
      "(('R238', 'R046', '00-06-02', 'GRD CNTRL-42 ST', '12:00:00'), 4251)\n",
      "(('R238', 'R046', '00-03-02', 'GRD CNTRL-42 ST', '20:00:00'), 3968)\n",
      "(('R238', 'R046', '00-06-00', 'GRD CNTRL-42 ST', '12:00:00'), 3878)\n",
      "(('N063A', 'R011', '00-00-01', '42 ST-PORT AUTH', '20:00:00'), 3867)\n",
      "(('R238', 'R046', '00-06-01', 'GRD CNTRL-42 ST', '12:00:00'), 3589)\n",
      "(('R238', 'R046', '00-03-00', 'GRD CNTRL-42 ST', '20:00:00'), 3567)\n",
      "(('R501', 'R054', '00-00-00', '5 AVE', '16:00:00'), 3425)\n",
      "(('R610', 'R057', '00-03-00', 'ATL AV-BARCLAY', '20:00:00'), 3298)\n",
      "(('R238', 'R046', '00-06-02', 'GRD CNTRL-42 ST', '20:00:00'), 3281)\n",
      "(('A022', 'R022', '01-00-00', '34 ST-HERALD SQ', '20:00:00'), 3264)\n",
      "(('R417', 'R222', '00-00-01', 'PARKCHESTER', '09:00:00'), 3233)\n",
      "(('R240', 'R047', '00-00-00', 'GRD CNTRL-42 ST', '21:00:00'), 3210)\n",
      "(('R240', 'R047', '00-00-00', 'GRD CNTRL-42 ST', '13:00:00'), 3202)\n",
      "(('N083', 'R138', '01-00-00', 'W 4 ST-WASH SQ', '21:00:00'), 3176)\n",
      "(('N601', 'R319', '00-00-00', 'LEXINGTON AV/63', '12:00:00'), 3110)\n",
      "(('R238', 'R046', '00-03-01', 'GRD CNTRL-42 ST', '20:00:00'), 3103)\n",
      "(('A033', 'R170', '02-00-04', '14 ST-UNION SQ', '21:00:00'), 3094)\n",
      "(('R240', 'R047', '00-00-00', 'GRD CNTRL-42 ST', '09:00:00'), 3077)\n",
      "(('R249', 'R179', '01-00-00', '86 ST', '20:00:00'), 3005)\n",
      "(('N067', 'R012', '00-05-00', '34 ST-PENN STA', '20:00:00'), 2996)\n",
      "(('R240', 'R047', '00-03-08', 'GRD CNTRL-42 ST', '21:00:00'), 2958)\n",
      "(('N507', 'R023', '00-00-00', '34 ST-HERALD SQ', '20:00:00'), 2949)\n",
      "(('A025', 'R023', '01-06-01', '34 ST-HERALD SQ', '20:00:00'), 2943)\n",
      "(('A025', 'R023', '01-06-00', '34 ST-HERALD SQ', '12:00:00'), 2933)\n",
      "(('N063A', 'R011', '00-00-02', '42 ST-PORT AUTH', '20:00:00'), 2933)\n",
      "(('A025', 'R023', '01-06-00', '34 ST-HERALD SQ', '20:00:00'), 2851)\n",
      "(('N506', 'R022', '00-00-00', '34 ST-HERALD SQ', '20:00:00'), 2763)\n",
      "(('R238', 'R046', '00-06-00', 'GRD CNTRL-42 ST', '20:00:00'), 2747)\n",
      "(('A022', 'R022', '01-00-02', '34 ST-HERALD SQ', '20:00:00'), 2744)\n"
     ]
    }
   ],
   "source": [
    "for i in n[:30]:\n",
    "    print(i)\n",
    "#maybe we should also think about a commuter stop?\n",
    "#subtracting #'s between of Sat and Mon 8-12am"
   ]
  }
 ],
 "metadata": {
  "kernelspec": {
   "display_name": "Python 3",
   "language": "python",
   "name": "python3"
  },
  "language_info": {
   "codemirror_mode": {
    "name": "ipython",
    "version": 3
   },
   "file_extension": ".py",
   "mimetype": "text/x-python",
   "name": "python",
   "nbconvert_exporter": "python",
   "pygments_lexer": "ipython3",
   "version": "3.6.1"
  }
 },
 "nbformat": 4,
 "nbformat_minor": 2
}
